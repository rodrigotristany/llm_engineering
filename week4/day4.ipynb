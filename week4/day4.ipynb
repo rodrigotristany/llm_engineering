{
 "cells": [
  {
   "cell_type": "raw",
   "id": "7e71df65-6a2b-4cb7-a60b-664efaaa98b2",
   "metadata": {},
   "source": [
    "# Generador de código\n",
    "\n",
    "El requisito: utilizar un modelo de código abierto para generar código C++ de alto rendimiento a partir de código Python\n",
    "\n",
    "Para replicar esto, deberá configurar un punto final HuggingFace como lo hago en el video. Es fácil de hacer y es bastante satisfactorio ver los resultados.\n",
    "\n",
    "También es una parte importante de su aprendizaje; este es el primer ejemplo de implementación de un modelo de código abierto detrás de una API. Volveremos a esto en la semana 8, pero esto debería plantar una semilla en su mente sobre lo que implica trasladar modelos de código abierto a producción."
   ]
  },
  {
   "cell_type": "raw",
   "id": "2c6a7623-53c1-4b96-baac-c3f416f0b22d",
   "metadata": {},
   "source": [
    "<table style=\"margin: 0; text-align: left;\">\n",
    "<tr>\n",
    "<td style=\"width: 150px; height: 150px; vertical-align: middle;\">\n",
    "<img src=\"../important.jpg\" width=\"150\" height=\"150\" style=\"display: block;\" />\n",
    "</td>\n",
    "<td>\n",
    "<h1 style=\"color:#900;\">Importante: Pausar los puntos finales cuando no estén en uso</h1>\n",
    "<span style=\"color:#900;\">\n",
    "Si decide utilizar los puntos finales de HuggingFace para este proyecto, debe detenerlos o pausarlos cuando haya terminado para evitar acumular costos de ejecución innecesarios. Los costos son muy bajos siempre que solo ejecute el punto final cuando lo esté utilizando. Vaya a la interfaz de usuario del punto final de HuggingFace <a href=\"https://ui.endpoints.huggingface.co/\">aquí</a>, abra su punto final y haga clic en Pausar para ponerlo en pausa y no pagar más por él.\n",
    "Muchas gracias al estudiante John L. por plantear este tema.\n",
    "<br/><br/>\n",
    "En la semana 8, usaremos Modal en lugar de puntos finales de HuggingFace; con Modal, solo paga por el tiempo que lo usa y debería obtener créditos gratuitos.\n",
    "</span>\n",
    "</td>\n",
    "</tr>\n",
    "</table>"
   ]
  },
  {
   "cell_type": "raw",
   "id": "63a1eb00-9389-49d8-b529-0a9d2d311191",
   "metadata": {},
   "source": [
    "# imports\n",
    "\n",
    "import os\n",
    "import io\n",
    "import sys\n",
    "import json\n",
    "import requests\n",
    "from dotenv import load_dotenv\n",
    "from openai import OpenAI\n",
    "import google.generativeai\n",
    "import anthropic\n",
    "from IPython.display import Markdown, display, update_display\n",
    "import gradio as gr\n",
    "import subprocess"
   ]
  },
  {
   "cell_type": "raw",
   "id": "651a7fdc-2726-4140-8772-7431eca2f80a",
   "metadata": {},
   "source": [
    "# environment\n",
    "\n",
    "load_dotenv()\n",
    "os.environ['OPENAI_API_KEY'] = os.getenv('OPENAI_API_KEY', 'your-key-if-not-using-env')\n",
    "os.environ['ANTHROPIC_API_KEY'] = os.getenv('ANTHROPIC_API_KEY', 'your-key-if-not-using-env')\n",
    "os.environ['HF_TOKEN'] = os.getenv('HF_TOKEN', 'your-key-if-not-using-env')"
   ]
  },
  {
   "cell_type": "raw",
   "id": "40fb2d29-92f1-4aaf-a379-8c4a2cebb63c",
   "metadata": {},
   "source": [
    "# initialize\n",
    "\n",
    "openai = OpenAI()\n",
    "claude = anthropic.Anthropic()\n",
    "OPENAI_MODEL = \"gpt-4o\"\n",
    "CLAUDE_MODEL = \"claude-3-5-sonnet-20240620\""
   ]
  },
  {
   "cell_type": "raw",
   "id": "581dcf56-4454-40e2-9950-9057b619da50",
   "metadata": {},
   "source": [
    "system_message = \"Eres un asistente que reimplementa código Python en C++ de alto rendimiento para una Mac M2. \"\n",
    "system_message += \"Responde solo con código C++; usa los comentarios con moderación y no proporciones ninguna explicación más allá de comentarios ocasionales. \"\n",
    "system_message += \"La respuesta C++ debe producir una salida idéntica en el menor tiempo posible.\""
   ]
  },
  {
   "cell_type": "raw",
   "id": "f4615a4d-5afb-488e-bba8-a77c2d16a7c1",
   "metadata": {},
   "source": [
    "def user_prompt_for(python):\n",
    "    user_prompt = \"Reescribe este código Python en C++ con la implementación más rápida posible que produzca una salida idéntica en el menor tiempo posible.\"\n",
    "    user_prompt += \"Responde solo con código C++; no expliques tu trabajo más allá de algunos comentarios.\"\n",
    "    user_prompt += \"Manten la implementación de la generación de números aleatorios idénticos para que los resultados de la coincidencia sean exactos.\"\n",
    "    user_prompt += \"Responde solo con código C++; no añadas nada más que código; usa los comentarios con moderación y no proporciones ninguna explicación más allá de comentarios ocasionales. \"\n",
    "    user_prompt += \"Presta atención a los tipos de números para asegurar que no haya desbordamientos de int (overflow). Recuerda incluir todos los paquetes de C++ necesarios, como iomanip.\\n\\n\"    \n",
    "    user_prompt += python\n",
    "    return user_prompt"
   ]
  },
  {
   "cell_type": "raw",
   "id": "cda4317b-89df-4f15-ac21-6203762914ab",
   "metadata": {},
   "source": [
    "def messages_for(python):\n",
    "    return [\n",
    "        {\"role\": \"system\", \"content\": system_message},\n",
    "        {\"role\": \"user\", \"content\": user_prompt_for(python)}\n",
    "    ]"
   ]
  },
  {
   "cell_type": "raw",
   "id": "c24e507c-4e14-4726-b4cd-b3226a6ae430",
   "metadata": {},
   "source": [
    "# write to a file called optimized.cpp\n",
    "\n",
    "def write_output(cpp):\n",
    "    code = cpp.replace(\"```cpp\",\"\").replace(\"```\",\"\")\n",
    "    with open(\"optimized.cpp\", \"w\") as f:\n",
    "        f.write(code)"
   ]
  },
  {
   "cell_type": "raw",
   "id": "96771909-7acb-4626-937b-e5d2c8f12dd0",
   "metadata": {},
   "source": [
    "def optimize_gpt(python):    \n",
    "    stream = openai.chat.completions.create(model=OPENAI_MODEL, messages=messages_for(python), stream=True)\n",
    "    reply = \"\"\n",
    "    for chunk in stream:\n",
    "        fragment = chunk.choices[0].delta.content or \"\"\n",
    "        reply += fragment\n",
    "        print(fragment, end='', flush=True)\n",
    "    write_output(reply)"
   ]
  },
  {
   "cell_type": "raw",
   "id": "e72b78b9-c991-4e27-b98c-c8344b5557ca",
   "metadata": {},
   "source": [
    "def optimize_claude(python):\n",
    "    result = claude.messages.stream(\n",
    "        model=CLAUDE_MODEL,\n",
    "        max_tokens=2000,\n",
    "        system=system_message,\n",
    "        messages=[{\"role\": \"user\", \"content\": user_prompt_for(python)}],\n",
    "    )\n",
    "    reply = \"\"\n",
    "    with result as stream:\n",
    "        for text in stream.text_stream:\n",
    "            reply += text\n",
    "            print(text, end=\"\", flush=True)\n",
    "    write_output(reply)"
   ]
  },
  {
   "cell_type": "raw",
   "id": "acbe2367-3a9b-4301-95ca-349c30890a01",
   "metadata": {},
   "source": [
    "pi = \"\"\"\n",
    "import time\n",
    "\n",
    "def calculate(iterations, param1, param2):\n",
    "    result = 1.0\n",
    "    for i in range(1, iterations+1):\n",
    "        j = i * param1 - param2\n",
    "        result -= (1/j)\n",
    "        j = i * param1 + param2\n",
    "        result += (1/j)\n",
    "    return result\n",
    "\n",
    "start_time = time.time()\n",
    "result = calculate(100_000_000, 4, 1) * 4\n",
    "end_time = time.time()\n",
    "\n",
    "print(f\"Result: {result:.12f}\")\n",
    "print(f\"Execution Time: {(end_time - start_time):.6f} seconds\")\n",
    "\"\"\""
   ]
  },
  {
   "cell_type": "raw",
   "id": "785553ec-121f-47b8-a307-f361e1f5a90b",
   "metadata": {},
   "source": [
    "exec(pi)"
   ]
  },
  {
   "cell_type": "raw",
   "id": "0be0d934-77f3-47aa-b1ed-cd2824557eee",
   "metadata": {},
   "source": [
    "optimize_gpt(pi)"
   ]
  },
  {
   "cell_type": "raw",
   "id": "a0614757-8710-43dd-b17b-d978fb570651",
   "metadata": {},
   "source": [
    "exec(pi)"
   ]
  },
  {
   "cell_type": "raw",
   "id": "0bfebef1-d206-4be3-af07-40717f1aeefe",
   "metadata": {},
   "source": [
    "!clang++ -O3 -std=c++17 -march=armv8.3-a -o optimized optimized.cpp\n",
    "!./optimized"
   ]
  },
  {
   "cell_type": "raw",
   "id": "089dd318-a0b3-499b-b2f1-ab8141e3b37d",
   "metadata": {},
   "source": [
    "optimize_claude(pi)"
   ]
  },
  {
   "cell_type": "raw",
   "id": "cf72d068-556e-4bff-82f3-62a387b9d3a8",
   "metadata": {},
   "source": [
    "!clang++ -O3 -std=c++17 -march=armv8.3-a -o optimized optimized.cpp\n",
    "!./optimized"
   ]
  },
  {
   "cell_type": "raw",
   "id": "941bfadb-1606-4727-a652-3892902a880a",
   "metadata": {},
   "source": [
    "python_hard = \"\"\"\n",
    "def lcg(seed, a=1664525, c=1013904223, m=2**32):\n",
    "    value = seed\n",
    "    while True:\n",
    "        value = (a * value + c) % m\n",
    "        yield value\n",
    "        \n",
    "def max_subarray_sum(n, seed, min_val, max_val):\n",
    "    lcg_gen = lcg(seed)\n",
    "    random_numbers = [next(lcg_gen) % (max_val - min_val + 1) + min_val for _ in range(n)]\n",
    "    max_sum = float('-inf')\n",
    "    for i in range(n):\n",
    "        current_sum = 0\n",
    "        for j in range(i, n):\n",
    "            current_sum += random_numbers[j]\n",
    "            if current_sum > max_sum:\n",
    "                max_sum = current_sum\n",
    "    return max_sum\n",
    "\n",
    "def total_max_subarray_sum(n, initial_seed, min_val, max_val):\n",
    "    total_sum = 0\n",
    "    lcg_gen = lcg(initial_seed)\n",
    "    for _ in range(20):\n",
    "        seed = next(lcg_gen)\n",
    "        total_sum += max_subarray_sum(n, seed, min_val, max_val)\n",
    "    return total_sum\n",
    "\n",
    "# Parameters\n",
    "n = 10000         # Number of random numbers\n",
    "initial_seed = 42 # Initial seed for the LCG\n",
    "min_val = -10     # Minimum value of random numbers\n",
    "max_val = 10      # Maximum value of random numbers\n",
    "\n",
    "# Timing the function\n",
    "import time\n",
    "start_time = time.time()\n",
    "result = total_max_subarray_sum(n, initial_seed, min_val, max_val)\n",
    "end_time = time.time()\n",
    "\n",
    "print(\"Total Maximum Subarray Sum (20 runs):\", result)\n",
    "print(\"Execution Time: {:.6f} seconds\".format(end_time - start_time))\n",
    "\"\"\""
   ]
  },
  {
   "cell_type": "raw",
   "id": "55ae174b-8242-45be-8db2-6ccdadd022b9",
   "metadata": {},
   "source": [
    "exec(python_hard)"
   ]
  },
  {
   "cell_type": "raw",
   "id": "741eda5a-6819-4afe-922b-fa28e4719714",
   "metadata": {},
   "source": [
    "optimize_gpt(python_hard)"
   ]
  },
  {
   "cell_type": "raw",
   "id": "905536af-1848-48d5-902c-87b1a2502d9c",
   "metadata": {},
   "source": [
    "!clang++ -O3 -std=c++17 -march=armv8.3-a -o optimized optimized.cpp\n",
    "!./optimized"
   ]
  },
  {
   "cell_type": "raw",
   "id": "b423b608-e734-4200-ab49-a2d1a2d9d1e2",
   "metadata": {},
   "source": [
    "optimize_claude(python_hard)"
   ]
  },
  {
   "cell_type": "raw",
   "id": "7bb81216-512a-4aaf-9912-c390bde01ec4",
   "metadata": {},
   "source": [
    "!clang++ -O3 -std=c++17 -march=armv8.3-a -o optimized optimized.cpp\n",
    "!./optimized"
   ]
  },
  {
   "cell_type": "raw",
   "id": "3de71c7b-5e05-4c7c-bbe7-5e321bcd0b5f",
   "metadata": {},
   "source": [
    "def stream_gpt(python):    \n",
    "    stream = openai.chat.completions.create(model=OPENAI_MODEL, messages=messages_for(python), stream=True)\n",
    "    reply = \"\"\n",
    "    for chunk in stream:\n",
    "        fragment = chunk.choices[0].delta.content or \"\"\n",
    "        reply += fragment\n",
    "        yield reply.replace('```cpp\\n','').replace('```','')"
   ]
  },
  {
   "cell_type": "raw",
   "id": "c02aa8af-75aa-401f-87b3-1599f47b45c0",
   "metadata": {},
   "source": [
    "def stream_claude(python):\n",
    "    result = claude.messages.stream(\n",
    "        model=CLAUDE_MODEL,\n",
    "        max_tokens=2000,\n",
    "        system=system_message,\n",
    "        messages=[{\"role\": \"user\", \"content\": user_prompt_for(python)}],\n",
    "    )\n",
    "    reply = \"\"\n",
    "    with result as stream:\n",
    "        for text in stream.text_stream:\n",
    "            reply += text\n",
    "            yield reply.replace('```cpp\\n','').replace('```','')"
   ]
  },
  {
   "cell_type": "raw",
   "id": "ba85c984-7b97-4d7f-a41f-d66611e87811",
   "metadata": {},
   "source": [
    "def optimize(python, model):\n",
    "    if model==\"GPT\":\n",
    "        result = stream_gpt(python)\n",
    "    elif model==\"Claude\":\n",
    "        result = stream_claude(python)\n",
    "    else:\n",
    "        raise ValueError(\"Modelo Desconocido\")\n",
    "    for stream_so_far in result:\n",
    "        yield stream_so_far        "
   ]
  },
  {
   "cell_type": "raw",
   "id": "50c1a54e-7650-42b5-b6a9-27999f3db3d0",
   "metadata": {},
   "source": [
    "with gr.Blocks() as ui:\n",
    "    with gr.Row():\n",
    "        python = gr.Textbox(label=\"Código en Python:\", lines=10, value=python_hard)\n",
    "        cpp = gr.Textbox(label=\"C++ code:\", lines=10)\n",
    "    with gr.Row():\n",
    "        model = gr.Dropdown([\"GPT\", \"Claude\"], label=\"Selecciona el modelo\", value=\"GPT\")\n",
    "        convert = gr.Button(\"Convertir código\")\n",
    "\n",
    "    convert.click(optimize, inputs=[python, model], outputs=[cpp])\n",
    "\n",
    "ui.launch(inbrowser=True)"
   ]
  },
  {
   "cell_type": "raw",
   "id": "6fd342c8-bdc9-4e81-ba91-b085d645ae90",
   "metadata": {},
   "source": [
    "def execute_python(code):\n",
    "        try:\n",
    "            output = io.StringIO()\n",
    "            sys.stdout = output\n",
    "            exec(code)\n",
    "        finally:\n",
    "            sys.stdout = sys.__stdout__\n",
    "        return output.getvalue()"
   ]
  },
  {
   "cell_type": "raw",
   "id": "362944e4-e70f-462c-aa97-32f57a86f1a2",
   "metadata": {},
   "source": [
    "def execute_cpp(code):\n",
    "        write_output(code)\n",
    "        try:\n",
    "            compile_cmd = [\"clang++\", \"-Ofast\", \"-std=c++17\", \"-march=armv8.5-a\", \"-mtune=apple-m2\", \"-mcpu=apple-m2\", \"-o\", \"optimized\", \"optimized.cpp\"]\n",
    "            compile_result = subprocess.run(compile_cmd, check=True, text=True, capture_output=True)\n",
    "            run_cmd = [\"./optimized\"]\n",
    "            run_result = subprocess.run(run_cmd, check=True, text=True, capture_output=True)\n",
    "            return run_result.stdout\n",
    "        except subprocess.CalledProcessError as e:\n",
    "            return f\"An error occurred:\\n{e.stderr}\""
   ]
  },
  {
   "cell_type": "raw",
   "id": "9cda6569-cdc6-4b32-b7e4-0201ff0b6d1f",
   "metadata": {},
   "source": [
    "css = \"\"\"\n",
    ".python {background-color: #306998;}\n",
    ".cpp {background-color: #050;}\n",
    "\"\"\""
   ]
  },
  {
   "cell_type": "raw",
   "id": "f906bfe4-48a7-43f3-ba47-5a67ce5663c1",
   "metadata": {},
   "source": [
    "with gr.Blocks(css=css) as ui:\n",
    "    gr.Markdown(\"## Convierte código de Python a C++\")\n",
    "    with gr.Row():\n",
    "        python = gr.Textbox(label=\"Código en Python:\", value=python_hard, lines=10)\n",
    "        cpp = gr.Textbox(label=\"Código en C++:\", lines=10)\n",
    "    with gr.Row():\n",
    "        model = gr.Dropdown([\"GPT\", \"Claude\"], label=\"Selecciona el modelo\", value=\"GPT\")\n",
    "    with gr.Row():\n",
    "        convert = gr.Button(\"Convertir el código\")\n",
    "    with gr.Row():\n",
    "        python_run = gr.Button(\"Ejecutar Python\")\n",
    "        cpp_run = gr.Button(\"Ejecutar C++\")\n",
    "    with gr.Row():\n",
    "        python_out = gr.TextArea(label=\"Resultado en Python:\", elem_classes=[\"python\"])\n",
    "        cpp_out = gr.TextArea(label=\"Resultado en C++:\", elem_classes=[\"cpp\"])\n",
    "\n",
    "    convert.click(optimize, inputs=[python, model], outputs=[cpp])\n",
    "    python_run.click(execute_python, inputs=[python], outputs=[python_out])\n",
    "    cpp_run.click(execute_cpp, inputs=[cpp], outputs=[cpp_out])\n",
    "\n",
    "ui.launch(inbrowser=True)"
   ]
  },
  {
   "cell_type": "raw",
   "id": "85cc5000-3797-4e8c-9700-bad8104c0606",
   "metadata": {},
   "source": [
    "from huggingface_hub import login, InferenceClient\n",
    "from transformers import AutoTokenizer"
   ]
  },
  {
   "cell_type": "raw",
   "id": "012d0790-6bdb-431f-bac7-4377e087803b",
   "metadata": {},
   "source": [
    "hf_token = os.environ['HF_TOKEN']\n",
    "login(hf_token, add_to_git_credential=True)"
   ]
  },
  {
   "cell_type": "raw",
   "id": "303332f9-f861-4e57-a55f-ca30e601c74a",
   "metadata": {},
   "source": [
    "code_qwen = \"Qwen/CodeQwen1.5-7B-Chat\"\n",
    "code_gemma = \"google/codegemma-7b-it\"\n",
    "CODE_QWEN_URL = \"https://mo1u84h30mt5vns6.us-east-1.aws.endpoints.huggingface.cloud\"\n",
    "CODE_GEMMA_URL = \"https://c5hggiyqachmgnqg.us-east-1.aws.endpoints.huggingface.cloud\""
   ]
  },
  {
   "cell_type": "raw",
   "id": "2d7402cf-98df-4da5-a352-df59831f9f04",
   "metadata": {},
   "source": [
    "tokenizer = AutoTokenizer.from_pretrained(code_qwen)\n",
    "messages = messages_for(pi)\n",
    "text = tokenizer.apply_chat_template(messages, tokenize=False, add_generation_prompt=True)"
   ]
  },
  {
   "cell_type": "raw",
   "id": "0cc8978b-fa03-451c-b4e7-b7f1cf3f2d52",
   "metadata": {},
   "source": [
    "print(text)"
   ]
  },
  {
   "cell_type": "raw",
   "id": "79eb2433-3177-4658-b30a-7de1d3822206",
   "metadata": {},
   "source": [
    "client = InferenceClient(CODE_QWEN_URL, token=hf_token)\n",
    "stream = client.text_generation(text, stream=True, details=True, max_new_tokens=1000)\n",
    "for r in stream:\n",
    "    print(r.token.text, end = \"\")"
   ]
  },
  {
   "cell_type": "raw",
   "id": "6c8042a2-8702-4f47-8e64-1792569c6b52",
   "metadata": {},
   "source": [
    "def stream_code_qwen(python):\n",
    "    tokenizer = AutoTokenizer.from_pretrained(code_qwen)\n",
    "    messages = messages_for(python)\n",
    "    text = tokenizer.apply_chat_template(messages, tokenize=False, add_generation_prompt=True)\n",
    "    client = InferenceClient(CODE_QWEN_URL, token=hf_token)\n",
    "    stream = client.text_generation(text, stream=True, details=True, max_new_tokens=700)\n",
    "    result = \"\"\n",
    "    for r in stream:\n",
    "        result += r.token.text\n",
    "        yield result    "
   ]
  },
  {
   "cell_type": "raw",
   "id": "d0c67752-9056-428b-8b56-7f24e3acf160",
   "metadata": {},
   "source": [
    "def optimize(python, model):\n",
    "    if model==\"GPT\":\n",
    "        result = stream_gpt(python)\n",
    "    elif model==\"Claude\":\n",
    "        result = stream_claude(python)\n",
    "    elif model==\"CodeQwen\":\n",
    "        result = stream_code_qwen(python)\n",
    "    else:\n",
    "        raise ValueError(\"Unknown model\")\n",
    "    for stream_so_far in result:\n",
    "        yield stream_so_far    "
   ]
  },
  {
   "cell_type": "raw",
   "id": "86534eb4-1a31-4c1c-b6b5-e09d48484d5c",
   "metadata": {},
   "source": [
    "with gr.Blocks(css=css) as ui:\n",
    "    gr.Markdown(\"## Convierte código de Python a C++\")\n",
    "    with gr.Row():\n",
    "        python = gr.Textbox(label=\"Python code:\", value=python_hard, lines=10)\n",
    "        cpp = gr.Textbox(label=\"C++ code:\", lines=10)\n",
    "    with gr.Row():\n",
    "        model = gr.Dropdown([\"GPT\", \"Claude\", \"CodeQwen\"], label=\"Selecciona el modelo\", value=\"GPT\")\n",
    "    with gr.Row():\n",
    "        convert = gr.Button(\"Convertir el código\")\n",
    "    with gr.Row():\n",
    "        python_run = gr.Button(\"Ejecutar Python\")\n",
    "        cpp_run = gr.Button(\"Ejecutar C++\")\n",
    "    with gr.Row():\n",
    "        python_out = gr.TextArea(label=\"Resultado en Python:\", elem_classes=[\"python\"])\n",
    "        cpp_out = gr.TextArea(label=\"Resultado en C++:\", elem_classes=[\"cpp\"])\n",
    "\n",
    "    convert.click(optimize, inputs=[python, model], outputs=[cpp])\n",
    "    python_run.click(execute_python, inputs=[python], outputs=[python_out])\n",
    "    cpp_run.click(execute_cpp, inputs=[cpp], outputs=[cpp_out])\n",
    "\n",
    "ui.launch(inbrowser=True)"
   ]
  },
  {
   "cell_type": "raw",
   "id": "c4e75701-35e8-4618-b961-7e354ffda38d",
   "metadata": {},
   "source": []
  }
 ],
 "metadata": {
  "kernelspec": {
   "display_name": "Python 3 (ipykernel)",
   "language": "python",
   "name": "python3"
  },
  "language_info": {
   "codemirror_mode": {
    "name": "ipython",
    "version": 3
   },
   "file_extension": ".py",
   "mimetype": "text/x-python",
   "name": "python",
   "nbconvert_exporter": "python",
   "pygments_lexer": "ipython3",
   "version": "3.11.8"
  }
 },
 "nbformat": 4,
 "nbformat_minor": 5
}
