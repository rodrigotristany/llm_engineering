{
 "cells": [
  {
   "cell_type": "markdown",
   "id": "4a6ab9a2-28a2-445d-8512-a0dc8d1b54e9",
   "metadata": {},
   "source": [
    "# Generador de código\n",
    "\n",
    "El requisito: utilizar un modelo Frontier para generar código C++ de alto rendimiento a partir de código Python"
   ]
  },
  {
   "cell_type": "markdown",
   "id": "d5ccb926-7b49-44a4-99ab-8ef20b5778c0",
   "metadata": {},
   "source": [
    "<table style=\"margin: 0; text-align: left;\">\n",
    "<tr>\n",
    "<td style=\"width: 150px; height: 150px; vertical-align: middle;\">\n",
    "<img src=\"../resources.jpg\" width=\"150\" height=\"150\" style=\"display: block;\" />\n",
    "</td>\n",
    "<td>\n",
    "<h2 style=\"color:#f71;\">Recordatorio: obtenga el código más reciente</h2>\n",
    "<span style=\"color:#f71;\">Estoy mejorando continuamente estos laboratorios, agregando más ejemplos y ejercicios.\n",
    "Al comienzo de cada semana, vale la pena verificar que tenga el código más reciente.<br/>\n",
    "Primero, haga un <a href=\"https://chatgpt.com/share/6734e705-3270-8012-a074-421661af6ba9\">git pull y combine los cambios según sea necesario</a>. ¿Tiene algún problema? Intente preguntarle a ChatGPT para que le aclare cómo realizar la fusión, o póngase en contacto conmigo.<br/><br/>\n",
    "Después de haber obtenido el código, desde el directorio llm_engineering, en un indicador de Anaconda (PC) o Terminal (Mac), ejecute:<br/>\n",
    "<code>conda env update --f environment.yml --prune</code><br/>\n",
    "O si utilizó virtualenv en lugar de Anaconda, ejecute esto desde su entorno activado en un Powershell (PC) o Terminal (Mac):<br/>\n",
    "<code>pip install -r requirements.txt</code>\n",
    "<br/>Luego reinicie el kernel (menú Kernel >> Reiniciar kernel y borrar resultados de todas las celdas) para incorporar los cambios.\n",
    "</span>\n",
    "</td>\n",
    "</tr>\n",
    "</table>"
   ]
  },
  {
   "cell_type": "markdown",
   "id": "d90e04a2-5b8a-4fd5-9db8-27c02f033313",
   "metadata": {},
   "source": [
    "<table style=\"margin: 0; text-align: left;\">\n",
    "<tr>\n",
    "<td style=\"width: 150px; height: 150px; vertical-align: middle;\">\n",
    "<img src=\"../important.jpg\" width=\"150\" height=\"150\" style=\"display: block;\" />\n",
    "</td>\n",
    "<td>\n",
    "<h1 style=\"color:#900;\">Nota importante</h1>\n",
    "<span style=\"color:#900;\">\n",
    "En este laboratorio, utilizo GPT-4o y Claude-3.5-Sonnet, que son los modelos con un precio ligeramente superior. Los costos siguen siendo bajos, pero si prefiere mantenerlos muy bajos, realice los cambios sugeridos a los modelos (3 celdas más abajo).\n",
    "</span>\n",
    "</td>\n",
    "</tr>\n",
    "</table>"
   ]
  },
  {
   "cell_type": "code",
   "execution_count": 1,
   "id": "e610bf56-a46e-4aff-8de1-ab49d62b1ad3",
   "metadata": {},
   "outputs": [],
   "source": [
    "# imports\n",
    "\n",
    "import os\n",
    "import io\n",
    "import sys\n",
    "from dotenv import load_dotenv\n",
    "from openai import OpenAI\n",
    "import google.generativeai\n",
    "import anthropic\n",
    "from IPython.display import Markdown, display, update_display\n",
    "import gradio as gr\n",
    "import subprocess"
   ]
  },
  {
   "cell_type": "code",
   "execution_count": 2,
   "id": "4f672e1c-87e9-4865-b760-370fa605e614",
   "metadata": {},
   "outputs": [],
   "source": [
    "# environment\n",
    "\n",
    "load_dotenv()\n",
    "os.environ['OPENAI_API_KEY'] = os.getenv('OPENAI_API_KEY', 'your-key-if-not-using-env')\n",
    "os.environ['ANTHROPIC_API_KEY'] = os.getenv('ANTHROPIC_API_KEY', 'your-key-if-not-using-env')"
   ]
  },
  {
   "cell_type": "code",
   "execution_count": 3,
   "id": "8aa149ed-9298-4d69-8fe2-8f5de0f667da",
   "metadata": {},
   "outputs": [],
   "source": [
    "# initialize\n",
    "# NOTA: opción para usar modelos de costo ultra bajo descomentando las últimas 2 líneas\n",
    "\n",
    "openai = OpenAI()\n",
    "claude = anthropic.Anthropic()\n",
    "OPENAI_MODEL = \"gpt-4o\"\n",
    "CLAUDE_MODEL = \"claude-3-5-sonnet-20240620\"\n",
    "\n",
    "# ¿Quieres mantener los costos muy bajos? Elimina los comentarios de estas líneas:\n",
    "# OPENAI_MODEL = \"gpt-4o-mini\"\n",
    "# CLAUDE_MODEL = \"claude-3-haiku-20240307\""
   ]
  },
  {
   "cell_type": "code",
   "execution_count": 5,
   "id": "6896636f-923e-4a2c-9d6c-fac07828a201",
   "metadata": {},
   "outputs": [],
   "source": [
    "system_message = \"Eres un asistente que reimplementa código Python en C++ de alto rendimiento para una Mac M1. \"\n",
    "system_message += \"Responde solo con código C++; usa los comentarios con moderación y no proporciones ninguna explicación más allá de comentarios ocasionales. \"\n",
    "system_message += \"La respuesta C++ debe producir una salida idéntica en el menor tiempo posible.\""
   ]
  },
  {
   "cell_type": "code",
   "execution_count": 6,
   "id": "8e7b3546-57aa-4c29-bc5d-f211970d04eb",
   "metadata": {},
   "outputs": [],
   "source": [
    "def user_prompt_for(python):\n",
    "    user_prompt = \"Reescribe este código Python en C++ con la implementación más rápida posible que produzca una salida idéntica en el menor tiempo posible.\"\n",
    "    user_prompt += \"Responde solo con código C++; no expliques tu trabajo más allá de algunos comentarios.\"\n",
    "    user_prompt += \"Presta atención a los tipos de números para asegurar que no haya desbordamientos de int (overflow). Recuerda incluir todos los paquetes de C++ necesarios, como iomanip.\\n\\n\"    \n",
    "    user_prompt += python\n",
    "    return user_prompt"
   ]
  },
  {
   "cell_type": "code",
   "execution_count": 7,
   "id": "c6190659-f54c-4951-bef4-4960f8e51cc4",
   "metadata": {},
   "outputs": [],
   "source": [
    "def messages_for(python):\n",
    "    return [\n",
    "        {\"role\": \"system\", \"content\": system_message},\n",
    "        {\"role\": \"user\", \"content\": user_prompt_for(python)}\n",
    "    ]"
   ]
  },
  {
   "cell_type": "code",
   "execution_count": 8,
   "id": "71e1ba8c-5b05-4726-a9f3-8d8c6257350b",
   "metadata": {},
   "outputs": [],
   "source": [
    "# creará la salida en un fichero llamado optimized.cpp\n",
    "\n",
    "def write_output(cpp):\n",
    "    code = cpp.replace(\"```cpp\",\"\").replace(\"```\",\"\")\n",
    "    with open(\"optimized.cpp\", \"w\") as f:\n",
    "        f.write(code)"
   ]
  },
  {
   "cell_type": "code",
   "execution_count": 9,
   "id": "e7d2fea8-74c6-4421-8f1e-0e76d5b201b9",
   "metadata": {},
   "outputs": [],
   "source": [
    "def optimize_gpt(python):    \n",
    "    stream = openai.chat.completions.create(model=OPENAI_MODEL, messages=messages_for(python), stream=True)\n",
    "    reply = \"\"\n",
    "    for chunk in stream:\n",
    "        fragment = chunk.choices[0].delta.content or \"\"\n",
    "        reply += fragment\n",
    "        print(fragment, end='', flush=True)\n",
    "    write_output(reply)"
   ]
  },
  {
   "cell_type": "code",
   "execution_count": 10,
   "id": "7cd84ad8-d55c-4fe0-9eeb-1895c95c4a9d",
   "metadata": {},
   "outputs": [],
   "source": [
    "def optimize_claude(python):\n",
    "    result = claude.messages.stream(\n",
    "        model=CLAUDE_MODEL,\n",
    "        max_tokens=2000,\n",
    "        system=system_message,\n",
    "        messages=[{\"role\": \"user\", \"content\": user_prompt_for(python)}],\n",
    "    )\n",
    "    reply = \"\"\n",
    "    with result as stream:\n",
    "        for text in stream.text_stream:\n",
    "            reply += text\n",
    "            print(text, end=\"\", flush=True)\n",
    "    write_output(reply)"
   ]
  },
  {
   "cell_type": "code",
   "execution_count": 11,
   "id": "a1cbb778-fa57-43de-b04b-ed523f396c38",
   "metadata": {},
   "outputs": [],
   "source": [
    "pi = \"\"\"\n",
    "import time\n",
    "\n",
    "def calculate(iterations, param1, param2):\n",
    "    result = 1.0\n",
    "    for i in range(1, iterations+1):\n",
    "        j = i * param1 - param2\n",
    "        result -= (1/j)\n",
    "        j = i * param1 + param2\n",
    "        result += (1/j)\n",
    "    return result\n",
    "\n",
    "start_time = time.time()\n",
    "result = calculate(100_000_000, 4, 1) * 4\n",
    "end_time = time.time()\n",
    "\n",
    "print(f\"Result: {result:.12f}\")\n",
    "print(f\"Execution Time: {(end_time - start_time):.6f} seconds\")\n",
    "\"\"\""
   ]
  },
  {
   "cell_type": "code",
   "execution_count": 12,
   "id": "7fe1cd4b-d2c5-4303-afed-2115a3fef200",
   "metadata": {},
   "outputs": [
    {
     "name": "stdout",
     "output_type": "stream",
     "text": [
      "Result: 3.141592658589\n",
      "Execution Time: 8.486389 seconds\n"
     ]
    }
   ],
   "source": [
    "exec(pi)"
   ]
  },
  {
   "cell_type": "code",
   "execution_count": 13,
   "id": "105db6f9-343c-491d-8e44-3a5328b81719",
   "metadata": {},
   "outputs": [
    {
     "name": "stdout",
     "output_type": "stream",
     "text": [
      "```cpp\n",
      "#include <iostream>\n",
      "#include <chrono>\n",
      "#include <iomanip>\n",
      "\n",
      " Calcula el resultado para las iteraciones, param1 y param2 dados\n",
      "double calculate(int iterations, int param1, int param2) {\n",
      "    double result = 1.0;\n",
      "    for (int i = 1; i <= iterations; ++i) {\n",
      "        double j = static_cast<double>(i * param1 - param2);\n",
      "        result -= (1.0 / j);\n",
      "        j = static_cast<double>(i * param1 + param2);\n",
      "        result += (1.0 / j);\n",
      "    }\n",
      "    return result;\n",
      "}\n",
      "\n",
      "int main() {\n",
      "    auto start_time = std::chrono::high_resolution_clock::now();\n",
      "    \n",
      "    double result = calculate(100000000, 4, 1) * 4;\n",
      "    \n",
      "    auto end_time = std::chrono::high_resolution_clock::now();\n",
      "    std::chrono::duration<double> elapsed = end_time - start_time;\n",
      "\n",
      "    std::cout << std::fixed << std::setprecision(12);\n",
      "    std::cout << \"Result: \" << result << std::endl;\n",
      "    std::cout << \"Execution Time: \" << elapsed.count() << \" seconds\" << std::endl;\n",
      "\n",
      "    return 0;\n",
      "}\n",
      "```"
     ]
    }
   ],
   "source": [
    "optimize_gpt(pi)"
   ]
  },
  {
   "cell_type": "code",
   "execution_count": null,
   "id": "bf26ee95-0c77-491d-9a91-579a1e96a8a3",
   "metadata": {},
   "outputs": [],
   "source": [
    "exec(pi)"
   ]
  },
  {
   "cell_type": "markdown",
   "id": "bf8f8018-f64d-425c-a0e1-d7862aa9592d",
   "metadata": {},
   "source": [
    "# Compilación y ejecución de C++\n",
    "\n",
    "La siguiente celda contiene el comando para compilar un archivo C++ en mi Mac M2.\n",
    "Compila el archivo `optimized.cpp` en un ejecutable llamado `optimized`\n",
    "\n",
    "Luego ejecuta el programa llamado `optimized`\n",
    "\n",
    "Puedes buscar en Google (o preguntarle a ChatGPT) cómo hacer esto en tu plataforma y luego reemplazar las líneas a continuación.\n",
    "Si no te sientes cómodo con este paso, puedes omitirlo con seguridad: te mostraré exactamente cómo funciona en mi Mac."
   ]
  },
  {
   "cell_type": "code",
   "execution_count": 14,
   "id": "4194e40c-04ab-4940-9d64-b4ad37c5bb40",
   "metadata": {},
   "outputs": [
    {
     "name": "stdout",
     "output_type": "stream",
     "text": [
      "Result: 3.141592658589\n",
      "Execution Time: 0.230818458000 seconds\n"
     ]
    }
   ],
   "source": [
    "# Compila C++ y corre el ejecutable\n",
    "\n",
    "!clang++ -O3 -std=c++17 -march=armv8.3-a -o optimized optimized.cpp\n",
    "!./optimized"
   ]
  },
  {
   "cell_type": "code",
   "execution_count": 16,
   "id": "983a11fe-e24d-4c65-8269-9802c5ef3ae6",
   "metadata": {},
   "outputs": [
    {
     "name": "stdout",
     "output_type": "stream",
     "text": [
      "#include <iostream>\n",
      "ip>clude <ioman\n",
      "#include <chrono>\n",
      "\n",
      " param1, int param2) {long iterations, int\n",
      "double result = 1.0;\n",
      "for (long long i = 1; i <= iterations; ++i) {\n",
      " j = static_cast<double>(i) * param1 - param2;\n",
      " j;     result -= 1.0 /\n",
      "<double>(i) * param1 + param2;\n",
      " / j;   result += 1.0\n",
      "    }\n",
      " result;rn\n",
      "}\n",
      "\n",
      "int main() {\n",
      "::high_resolution_clock::now();no\n",
      "    \n",
      "000'000, 4, 1) * 4; calculate(100'\n",
      "    \n",
      "d_time = std::chrono::high_resolution_clock::now();\n",
      " duration = std::chrono::duration_cast<std::chrono::microseconds>(end_time - start_time);\n",
      "\n",
      "< std::fixed << std::setprecision(12);\n",
      " << result << std::endl;: \"\n",
      "d::cout << \"Execution Time: \" << duration.count() / 1e6 << \" seconds\" << std::endl;\n",
      "\n",
      "0;  return \n",
      "}"
     ]
    }
   ],
   "source": [
    "optimize_claude(pi)"
   ]
  },
  {
   "cell_type": "code",
   "execution_count": 17,
   "id": "d5a766f9-3d23-4bb4-a1d4-88ec44b61ddf",
   "metadata": {},
   "outputs": [
    {
     "name": "stdout",
     "output_type": "stream",
     "text": [
      "Result: 3.141592658589\n",
      "Execution Time: 0.238501000000 seconds\n"
     ]
    }
   ],
   "source": [
    "# Repetimos para Claude: nuevamente, use el enfoque correcto para su plataforma.\n",
    "\n",
    "!clang++ -O3 -std=c++17 -march=armv8.3-a -o optimized optimized.cpp\n",
    "!./optimized"
   ]
  },
  {
   "cell_type": "code",
   "execution_count": 18,
   "id": "c3b497b3-f569-420e-b92e-fb0f49957ce0",
   "metadata": {},
   "outputs": [],
   "source": [
    "python_hard = \"\"\"\n",
    "def lcg(seed, a=1664525, c=1013904223, m=2**32):\n",
    "    value = seed\n",
    "    while True:\n",
    "        value = (a * value + c) % m\n",
    "        yield value\n",
    "        \n",
    "def max_subarray_sum(n, seed, min_val, max_val):\n",
    "    lcg_gen = lcg(seed)\n",
    "    random_numbers = [next(lcg_gen) % (max_val - min_val + 1) + min_val for _ in range(n)]\n",
    "    max_sum = float('-inf')\n",
    "    for i in range(n):\n",
    "        current_sum = 0\n",
    "        for j in range(i, n):\n",
    "            current_sum += random_numbers[j]\n",
    "            if current_sum > max_sum:\n",
    "                max_sum = current_sum\n",
    "    return max_sum\n",
    "\n",
    "def total_max_subarray_sum(n, initial_seed, min_val, max_val):\n",
    "    total_sum = 0\n",
    "    lcg_gen = lcg(initial_seed)\n",
    "    for _ in range(20):\n",
    "        seed = next(lcg_gen)\n",
    "        total_sum += max_subarray_sum(n, seed, min_val, max_val)\n",
    "    return total_sum\n",
    "\n",
    "# Parameters\n",
    "n = 10000         # Number of random numbers\n",
    "initial_seed = 42 # Initial seed for the LCG\n",
    "min_val = -10     # Minimum value of random numbers\n",
    "max_val = 10      # Maximum value of random numbers\n",
    "\n",
    "# Timing the function\n",
    "import time\n",
    "start_time = time.time()\n",
    "result = total_max_subarray_sum(n, initial_seed, min_val, max_val)\n",
    "end_time = time.time()\n",
    "\n",
    "print(\"Total Maximum Subarray Sum (20 runs):\", result)\n",
    "print(\"Execution Time: {:.6f} seconds\".format(end_time - start_time))\n",
    "\"\"\""
   ]
  },
  {
   "cell_type": "code",
   "execution_count": 19,
   "id": "dab5e4bc-276c-4555-bd4c-12c699d5e899",
   "metadata": {},
   "outputs": [
    {
     "name": "stdout",
     "output_type": "stream",
     "text": [
      "Total Maximum Subarray Sum (20 runs): 10980\n",
      "Execution Time: 25.767595 seconds\n"
     ]
    }
   ],
   "source": [
    "exec(python_hard)"
   ]
  },
  {
   "cell_type": "code",
   "execution_count": 20,
   "id": "e8d24ed5-2c15-4f55-80e7-13a3952b3cb8",
   "metadata": {},
   "outputs": [
    {
     "name": "stdout",
     "output_type": "stream",
     "text": [
      "```cpp\n",
      "#include <iostream>\n",
      "#include <vector>\n",
      "#include <ctime>\n",
      "#include <limits>\n",
      "#include <algorithm>\n",
      "\n",
      " Linear Congruential Generator\n",
      "unsigned int lcg(unsigned int& seed, unsigned int a = 1664525, unsigned int c = 1013904223, unsigned int m = 4294967296) {\n",
      "    seed = (a * seed + c) % m;\n",
      "    return seed;\n",
      "}\n",
      "\n",
      " Max Subarray Sum Function\n",
      "long long max_subarray_sum(int n, unsigned int seed, int min_val, int max_val) {\n",
      "    std::vector<int> random_numbers(n);\n",
      "    int range = max_val - min_val + 1;\n",
      "    for (int i = 0; i < n; ++i) {\n",
      "        random_numbers[i] = lcg(seed) % range + min_val;\n",
      "    }\n",
      "\n",
      "    long long max_sum = std::numeric_limits<long long>::min();\n",
      "    for (int i = 0; i < n; ++i) {\n",
      "        long long current_sum = 0;\n",
      "        for (int j = i; j < n; ++j) {\n",
      "            current_sum += random_numbers[j];\n",
      "            if (current_sum > max_sum) {\n",
      "                max_sum = current_sum;\n",
      "            }\n",
      "        }\n",
      "    }\n",
      "    return max_sum;\n",
      "}\n",
      "\n",
      " Total Max Subarray Sum for 20 runs\n",
      "long long total_max_subarray_sum(int n, unsigned int initial_seed, int min_val, int max_val) {\n",
      "    long long total_sum = 0;\n",
      "    unsigned int seed = initial_seed;\n",
      "    for (int i = 0; i < 20; ++i) {\n",
      "        seed = lcg(seed);\n",
      "        total_sum += max_subarray_sum(n, seed, min_val, max_val);\n",
      "    }\n",
      "    return total_sum;\n",
      "}\n",
      "\n",
      "int main() {\n",
      "    // Parameters\n",
      "    int n = 10000;\n",
      "    unsigned int initial_seed = 42;\n",
      "    int min_val = -10;\n",
      "    int max_val = 10;\n",
      "\n",
      "    // Timing the function\n",
      "    auto start_time = std::clock();\n",
      "    long long result = total_max_subarray_sum(n, initial_seed, min_val, max_val);\n",
      "    auto end_time = std::clock();\n",
      "\n",
      "    std::cout << \"Total Maximum Subarray Sum (20 runs): \" << result << std::endl;\n",
      "    std::cout << \"Execution Time: \" << std::fixed << double(end_time - start_time) / CLOCKS_PER_SEC << \" seconds\" << std::endl;\n",
      "\n",
      "    return 0;\n",
      "}\n",
      "```"
     ]
    }
   ],
   "source": [
    "optimize_gpt(python_hard)"
   ]
  },
  {
   "cell_type": "code",
   "execution_count": 21,
   "id": "e0b3d073-88a2-40b2-831c-6f0c345c256f",
   "metadata": {},
   "outputs": [
    {
     "name": "stdout",
     "output_type": "stream",
     "text": [
      "\u001b[1moptimized.cpp:9:110: \u001b[0m\u001b[0;1;35mwarning: \u001b[0m\u001b[1mimplicit conversion from 'long' to 'unsigned int' changes value from 4294967296 to 0 [-Wconstant-conversion]\u001b[0m\n",
      "    9 | unsigned int lcg(unsigned int& seed, unsigned int a = 1664525, unsigned int c = 1013904223, unsigned int m = 4294967296) {\u001b[0m\n",
      "      | \u001b[0;1;32m                                                                                                           ~ ^~~~~~~~~~\n",
      "1 warning generated.\n",
      "Total Maximum Subarray Sum (20 runs): 0\n",
      "Execution Time: 0.666481 seconds\n"
     ]
    }
   ],
   "source": [
    "# Replace this with the right C++ compile + execute command for your platform\n",
    "\n",
    "!clang++ -O3 -std=c++17 -march=armv8.3-a -o optimized optimized.cpp\n",
    "!./optimized"
   ]
  },
  {
   "cell_type": "code",
   "execution_count": 22,
   "id": "e9305446-1d0c-4b51-866a-b8c1e299bf5c",
   "metadata": {},
   "outputs": [
    {
     "name": "stdout",
     "output_type": "stream",
     "text": [
      "#include <iostream>\n",
      "#include <vector>\n",
      "#include <chrono>\n",
      " <limits>\n",
      "dint>ude <cst\n",
      "#include <iomanip>\n",
      "\n",
      " namespace std;\n",
      "using namespace chrono;\n",
      "\n",
      " LCG {\n",
      "private:\n",
      "64_t value;\n",
      " a = 1664525;nst uint64_t\n",
      " const uint64_t c = 1013904223;\n",
      "t m = 1ULL << 32;uint64_\n",
      "\n",
      "public:\n",
      "64_t seed) : value(seed) {}\n",
      "\n",
      "    uint64_t next() {\n",
      ") % m;  value = (a * value + c\n",
      "        return value;\n",
      "    }\n",
      "};\n",
      "\n",
      "array_sum(int n, uint64_t seed, int min_val, int max_val) {\n",
      "seed);G lcg(\n",
      "> random_numbers(n);\n",
      " (int i = 0; i < n; ++i) {\n",
      "[i] = lcg.next() % (max_val - min_val + 1) + min_val;\n",
      "    }\n",
      "\n",
      "_limits<int64_t>::min();meric\n",
      "    int64_t current_sum = 0;\n",
      " i < n; ++i) { = 0;\n",
      "current_sum = max(current_sum + random_numbers[i], random_numbers[i]);\n",
      "sum, current_sum);max(max_\n",
      "    }\n",
      "    return max_sum;\n",
      "}\n",
      "\n",
      "64_t total_max_subarray_sum(int n, uint64_t initial_seed, int min_val, int max_val) {\n",
      "0;  int64_t total_sum = \n",
      "initial_seed);\n",
      " = 0; i < 20; ++i) {\n",
      "d = lcg.next();t see\n",
      "sum += max_subarray_sum(n, seed, min_val, max_val);\n",
      "    }\n",
      ";   return total_sum\n",
      "}\n",
      "\n",
      "int main() {\n",
      "const int n = 10000;\n",
      " uint64_t initial_seed = 42;\n",
      "10; const int min_val = -\n",
      " 10;const int max_val =\n",
      "\n",
      " high_resolution_clock::now();\n",
      "int64_t result = total_max_subarray_sum(n, initial_seed, min_val, max_val);\n",
      "    auto end_time = high_resolution_clock::now();\n",
      "\n",
      " (20 runs): \" << result << endl;ray Sum\n",
      " \" << fixed << setprecision(6) \n",
      "_cast<microseconds>(end_time - start_time).count() / 1e6 << \" seconds\" << endl;\n",
      "\n",
      "    return 0;\n",
      "}"
     ]
    }
   ],
   "source": [
    "optimize_claude(python_hard)"
   ]
  },
  {
   "cell_type": "code",
   "execution_count": 23,
   "id": "0c181036-8193-4fdd-aef3-fc513b218d43",
   "metadata": {},
   "outputs": [
    {
     "name": "stdout",
     "output_type": "stream",
     "text": [
      "Total Maximum Subarray Sum (20 runs): 10980\n",
      "Execution Time: 0.003596 seconds\n"
     ]
    }
   ],
   "source": [
    "# Replace this with the right C++ compile + execute command for your platform\n",
    "\n",
    "!clang++ -O3 -std=c++17 -march=armv8.3-a -o optimized optimized.cpp\n",
    "!./optimized"
   ]
  },
  {
   "cell_type": "code",
   "execution_count": 24,
   "id": "0be9f47d-5213-4700-b0e2-d444c7c738c0",
   "metadata": {},
   "outputs": [],
   "source": [
    "def stream_gpt(python):    \n",
    "    stream = openai.chat.completions.create(model=OPENAI_MODEL, messages=messages_for(python), stream=True)\n",
    "    reply = \"\"\n",
    "    for chunk in stream:\n",
    "        fragment = chunk.choices[0].delta.content or \"\"\n",
    "        reply += fragment\n",
    "        yield reply.replace('```cpp\\n','').replace('```','')"
   ]
  },
  {
   "cell_type": "code",
   "execution_count": 25,
   "id": "8669f56b-8314-4582-a167-78842caea131",
   "metadata": {},
   "outputs": [],
   "source": [
    "def stream_claude(python):\n",
    "    result = claude.messages.stream(\n",
    "        model=CLAUDE_MODEL,\n",
    "        max_tokens=2000,\n",
    "        system=system_message,\n",
    "        messages=[{\"role\": \"user\", \"content\": user_prompt_for(python)}],\n",
    "    )\n",
    "    reply = \"\"\n",
    "    with result as stream:\n",
    "        for text in stream.text_stream:\n",
    "            reply += text\n",
    "            yield reply.replace('```cpp\\n','').replace('```','')"
   ]
  },
  {
   "cell_type": "code",
   "execution_count": 26,
   "id": "2f1ae8f5-16c8-40a0-aa18-63b617df078d",
   "metadata": {},
   "outputs": [],
   "source": [
    "def optimize(python, model):\n",
    "    if model==\"GPT\":\n",
    "        result = stream_gpt(python)\n",
    "    elif model==\"Claude\":\n",
    "        result = stream_claude(python)\n",
    "    else:\n",
    "        raise ValueError(\"Modelo desconocido\")\n",
    "    for stream_so_far in result:\n",
    "        yield stream_so_far        "
   ]
  },
  {
   "cell_type": "code",
   "execution_count": 27,
   "id": "f1ddb38e-6b0a-4c37-baa4-ace0b7de887a",
   "metadata": {},
   "outputs": [
    {
     "name": "stdout",
     "output_type": "stream",
     "text": [
      "* Running on local URL:  http://127.0.0.1:7860\n",
      "\n",
      "To create a public link, set `share=True` in `launch()`.\n"
     ]
    },
    {
     "data": {
      "text/html": [
       "<div><iframe src=\"http://127.0.0.1:7860/\" width=\"100%\" height=\"500\" allow=\"autoplay; camera; microphone; clipboard-read; clipboard-write;\" frameborder=\"0\" allowfullscreen></iframe></div>"
      ],
      "text/plain": [
       "<IPython.core.display.HTML object>"
      ]
     },
     "metadata": {},
     "output_type": "display_data"
    },
    {
     "data": {
      "text/plain": []
     },
     "execution_count": 27,
     "metadata": {},
     "output_type": "execute_result"
    }
   ],
   "source": [
    "with gr.Blocks() as ui:\n",
    "    with gr.Row():\n",
    "        python = gr.Textbox(label=\"Código en Python:\", lines=10, value=python_hard)\n",
    "        cpp = gr.Textbox(label=\"Código en C++:\", lines=10)\n",
    "    with gr.Row():\n",
    "        model = gr.Dropdown([\"GPT\", \"Claude\"], label=\"Seleeciona el modelo\", value=\"GPT\")\n",
    "        convert = gr.Button(\"Convierte el código\")\n",
    "\n",
    "    convert.click(optimize, inputs=[python, model], outputs=[cpp])\n",
    "\n",
    "ui.launch(inbrowser=True)"
   ]
  },
  {
   "cell_type": "code",
   "execution_count": 28,
   "id": "19bf2bff-a822-4009-a539-f003b1651383",
   "metadata": {},
   "outputs": [],
   "source": [
    "def execute_python(code):\n",
    "        try:\n",
    "            output = io.StringIO()\n",
    "            sys.stdout = output\n",
    "            exec(code)\n",
    "        finally:\n",
    "            sys.stdout = sys.__stdout__\n",
    "        return output.getvalue()"
   ]
  },
  {
   "cell_type": "code",
   "execution_count": 29,
   "id": "77f3ab5d-fcfb-4d3f-8728-9cacbf833ea6",
   "metadata": {},
   "outputs": [],
   "source": [
    "# Deberás cambiar el código en el bloque try para compilar el código C++ para tu plataforma\n",
    "# Pegué esto en la interfaz de chat de Claude con una solicitud para que me diera una versión para una PC Intel,\n",
    "# y respondió con algo que parece perfecto: puedes probar un enfoque similar para tu plataforma.\n",
    "\n",
    "# Versión M2 para Mac para compilar y ejecutar código C++ optimizado:\n",
    "\n",
    "def execute_cpp(code):\n",
    "        write_output(code)\n",
    "        try:\n",
    "            compile_cmd = [\"clang++\", \"-Ofast\", \"-std=c++17\", \"-march=armv8.5-a\", \"-mtune=apple-m1\", \"-mcpu=apple-m1\", \"-o\", \"optimized\", \"optimized.cpp\"]\n",
    "            compile_result = subprocess.run(compile_cmd, check=True, text=True, capture_output=True)\n",
    "            run_cmd = [\"./optimized\"]\n",
    "            run_result = subprocess.run(run_cmd, check=True, text=True, capture_output=True)\n",
    "            return run_result.stdout\n",
    "        except subprocess.CalledProcessError as e:\n",
    "            return f\"Ha ocurrido un error:\\n{e.stderr}\""
   ]
  },
  {
   "cell_type": "code",
   "execution_count": 30,
   "id": "9a2274f1-d03b-42c0-8dcc-4ce159b18442",
   "metadata": {},
   "outputs": [],
   "source": [
    "css = \"\"\"\n",
    ".python {background-color: #306998;}\n",
    ".cpp {background-color: #050;}\n",
    "\"\"\""
   ]
  },
  {
   "cell_type": "code",
   "execution_count": 33,
   "id": "f1303932-160c-424b-97a8-d28c816721b2",
   "metadata": {},
   "outputs": [
    {
     "data": {
      "text/html": [
       "<div><iframe src=\"http://127.0.0.1:7863/\" width=\"100%\" height=\"500\" allow=\"autoplay; camera; microphone; clipboard-read; clipboard-write;\" frameborder=\"0\" allowfullscreen></iframe></div>"
      ],
      "text/plain": [
       "<IPython.core.display.HTML object>"
      ]
     },
     "metadata": {},
     "output_type": "display_data"
    },
    {
     "data": {
      "text/plain": []
     },
     "execution_count": 33,
     "metadata": {},
     "output_type": "execute_result"
    }
   ],
   "source": [
    "with gr.Blocks(css=css) as ui:\n",
    "    gr.Markdown(\"## Convierte código desde Python a C++\")\n",
    "    with gr.Row():\n",
    "        python = gr.Textbox(label=\"Código Python:\", value=python_hard, lines=10)\n",
    "        cpp = gr.Textbox(label=\"Código C++:\", lines=10)\n",
    "    with gr.Row():\n",
    "        model = gr.Dropdown([\"GPT\", \"Claude\"], label=\"Selecciona el modelo\", value=\"GPT\")\n",
    "    with gr.Row():\n",
    "        convert = gr.Button(\"Convierte el código\")\n",
    "    with gr.Row():\n",
    "        python_run = gr.Button(\"Ejecuta Python\")\n",
    "        cpp_run = gr.Button(\"Ejecuta C++\")\n",
    "    with gr.Row():\n",
    "        python_out = gr.TextArea(label=\"Resultado Python:\", elem_classes=[\"python\"])\n",
    "        cpp_out = gr.TextArea(label=\"Resultado C++:\", elem_classes=[\"cpp\"])\n",
    "\n",
    "    convert.click(optimize, inputs=[python, model], outputs=[cpp])\n",
    "    python_run.click(execute_python, inputs=[python], outputs=[python_out])\n",
    "    cpp_run.click(execute_cpp, inputs=[cpp], outputs=[cpp_out])\n",
    "\n",
    "ui.launch(inbrowser=True)"
   ]
  },
  {
   "cell_type": "code",
   "execution_count": null,
   "id": "77a80857-4632-4de8-a28f-b614bcbe2f40",
   "metadata": {},
   "outputs": [],
   "source": []
  }
 ],
 "metadata": {
  "kernelspec": {
   "display_name": "Python 3 (ipykernel)",
   "language": "python",
   "name": "python3"
  },
  "language_info": {
   "codemirror_mode": {
    "name": "ipython",
    "version": 3
   },
   "file_extension": ".py",
   "mimetype": "text/x-python",
   "name": "python",
   "nbconvert_exporter": "python",
   "pygments_lexer": "ipython3",
   "version": "3.11.8"
  }
 },
 "nbformat": 4,
 "nbformat_minor": 5
}
