{
 "cells": [
  {
   "cell_type": "markdown",
   "id": "61f56afc-bc15-46a4-8eb1-d940c332cf52",
   "metadata": {},
   "source": [
    "# Presentación de Colab\n",
    "\n",
    "Obtén más información sobre Google Colab y crea una cuenta de Google (si aún no tienes una) [aquí](https://colab.research.google.com/)\n",
    "\n",
    "Deberías poder usar el nivel gratuito o el gasto mínimo para completar todos los proyectos de la clase. Personalmente, me registré en Colab Pro+ y me encanta, pero no es obligatorio.\n",
    "\n",
    "Para ver algunas de las cosas que Colab puede hacer, sigue el siguiente enlace.\n",
    "\n",
    "https://colab.research.google.com/drive/1H9s8jXyfb1cAhXYfUyylNr_qtFhvjxeY?usp=sharing"
   ]
  },
  {
   "cell_type": "code",
   "execution_count": null,
   "id": "e9289ba7-200c-43a9-b67a-c5ce826c9537",
   "metadata": {},
   "outputs": [],
   "source": []
  }
 ],
 "metadata": {
  "kernelspec": {
   "display_name": "Python 3 (ipykernel)",
   "language": "python",
   "name": "python3"
  },
  "language_info": {
   "codemirror_mode": {
    "name": "ipython",
    "version": 3
   },
   "file_extension": ".py",
   "mimetype": "text/x-python",
   "name": "python",
   "nbconvert_exporter": "python",
   "pygments_lexer": "ipython3",
   "version": "3.11.8"
  }
 },
 "nbformat": 4,
 "nbformat_minor": 5
}
