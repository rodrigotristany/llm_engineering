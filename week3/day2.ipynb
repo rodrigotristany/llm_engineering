{
 "cells": [
  {
   "cell_type": "markdown",
   "id": "1f2ed49d-7873-4a03-bdc8-bda1c23cb979",
   "metadata": {},
   "source": [
    "# Pipelines de HuggingFace\n",
    "\n",
    "En esta sesión, nos dirigiremos a Google Colab y usaremos este Notebook para explorar los pipelines de la API de alto nivel de HuggingFace.\n",
    "\n",
    "https://colab.research.google.com/drive/1aMaEw8A56xs0bRM4lu8z7ou18jqyybGm?usp=sharing\n",
    "\n",
    "Puedes usar un entorno de ejecución de GPU T4 de bajo costo (o gratuito) para este notebook, ¡y los resultados se ven geniales!\n",
    "\n",
    "Hay instrucciones en el notebook para configurar tu token de HuggingFace e incluirlo como secreto en el notebook."
   ]
  },
  {
   "cell_type": "code",
   "execution_count": null,
   "id": "d5d84b78-0a02-4a35-8f10-e3f7451d352f",
   "metadata": {},
   "outputs": [],
   "source": []
  }
 ],
 "metadata": {
  "kernelspec": {
   "display_name": "Python 3 (ipykernel)",
   "language": "python",
   "name": "python3"
  },
  "language_info": {
   "codemirror_mode": {
    "name": "ipython",
    "version": 3
   },
   "file_extension": ".py",
   "mimetype": "text/x-python",
   "name": "python",
   "nbconvert_exporter": "python",
   "pygments_lexer": "ipython3",
   "version": "3.11.8"
  }
 },
 "nbformat": 4,
 "nbformat_minor": 5
}
