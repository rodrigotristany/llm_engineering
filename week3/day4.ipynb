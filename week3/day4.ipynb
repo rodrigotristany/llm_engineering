{
 "cells": [
  {
   "cell_type": "markdown",
   "id": "61f56afc-bc15-46a4-8eb1-d940c332cf52",
   "metadata": {},
   "source": [
    "# Modelos\n",
    "\n",
    "Y ahora, esta colaboración revela el corazón (¿o el cerebro?) de la biblioteca de transformadores: los modelos:\n",
    "\n",
    "https://colab.research.google.com/drive/1hhR9Z-yiqjUe7pJjVQw4c74z_V3VchLy?usp=sharing\n",
    "\n",
    "Esto debería funcionar bien en una caja T4 de bajo costo o gratuita."
   ]
  },
  {
   "cell_type": "code",
   "execution_count": null,
   "id": "5af4b206-2a22-4bd6-afc8-c31f859e63d6",
   "metadata": {},
   "outputs": [],
   "source": []
  }
 ],
 "metadata": {
  "kernelspec": {
   "display_name": "Python 3 (ipykernel)",
   "language": "python",
   "name": "python3"
  },
  "language_info": {
   "codemirror_mode": {
    "name": "ipython",
    "version": 3
   },
   "file_extension": ".py",
   "mimetype": "text/x-python",
   "name": "python",
   "nbconvert_exporter": "python",
   "pygments_lexer": "ipython3",
   "version": "3.11.8"
  }
 },
 "nbformat": 4,
 "nbformat_minor": 5
}
