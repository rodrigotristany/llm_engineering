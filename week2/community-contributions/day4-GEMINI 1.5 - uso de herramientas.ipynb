{
 "cells": [
  {
   "cell_type": "markdown",
   "id": "5ed4f13b-285f-43e1-a31c-5d29f27500f1",
   "metadata": {},
   "source": [
    "# Proyecto - Asistente de IA para aerolíneas\n",
    "\n",
    "## GEMINI 1.5 - uso de herramientas\n",
    "\n",
    "* https://cloud.google.com/vertex-ai/generative-ai/docs/multimodal/function-calling"
   ]
  },
  {
   "cell_type": "code",
   "execution_count": 1,
   "id": "6c787799-657c-4843-87b0-1ca70549fc23",
   "metadata": {},
   "outputs": [],
   "source": [
    "# imports\n",
    "\n",
    "import os\n",
    "import json\n",
    "from dotenv import load_dotenv\n",
    "import gradio as gr"
   ]
  },
  {
   "cell_type": "code",
   "execution_count": 2,
   "id": "48c52ad8-5c26-4170-b6f5-d6afb738f0e8",
   "metadata": {},
   "outputs": [
    {
     "name": "stdout",
     "output_type": "stream",
     "text": [
      "Google API Key existe y empieza por AIzaSyCw\n"
     ]
    }
   ],
   "source": [
    "import google.generativeai as genai\n",
    "\n",
    "# Inicialización\n",
    "\n",
    "load_dotenv()\n",
    "\n",
    "google_api_key = os.getenv('GOOGLE_API_KEY')\n",
    "\n",
    "if google_api_key:\n",
    "    print(f\"Google API Key existe y empieza por {google_api_key[:8]}\")\n",
    "else:\n",
    "    print(\"Google API Key Sin Configurar\")\n",
    "\n",
    "genai.configure(api_key= google_api_key)"
   ]
  },
  {
   "cell_type": "markdown",
   "id": "a72d932b-10a9-47bb-98f1-dcec7a0c259d",
   "metadata": {},
   "source": [
    "### Declaramos las herramientas"
   ]
  },
  {
   "cell_type": "code",
   "execution_count": 3,
   "id": "61a187e9-b010-4b15-834f-75a3c6caa2a9",
   "metadata": {},
   "outputs": [],
   "source": [
    "# https://github.com/google-gemini/cookbook/blob/main/quickstarts/Function_calling.ipynb\n",
    "\n",
    "ticket_prices = {\"londres\": \"799€\", \"parís\": \"899€\", \"tokyo\": \"1400€\", \"berlín\": \"499€\"}\n",
    "\n",
    "def contar(a: str):\n",
    "    \"\"\"returns result\"\"\"\n",
    "    result= len(a)\n",
    "    return result\n",
    "    \n",
    "def get_ticket_price(destination_city: str):\n",
    "    \"\"\"returns result\"\"\"\n",
    "    print(f\"Se solicitó la herramienta get_ticket_price para {destination_city}\")\n",
    "    city = destination_city.lower()\n",
    "    result = ticket_prices.get(city, \"Unknown\")\n",
    "    return result\n",
    "\n",
    "def get_flight_price(city: str):\n",
    "    \"\"\"returns result\"\"\"\n",
    "    print(f\"Se solicitó la herramienta get_flight_price para {city}\")\n",
    "    city = city.lower()\n",
    "    result = ticket_prices.get(city, \"Unknown\")\n",
    "    return result\n"
   ]
  },
  {
   "cell_type": "markdown",
   "id": "a26c3f0a-b6fe-4ca3-b881-2a5b20c796dc",
   "metadata": {},
   "source": [
    "### Personalizamos el comportamiento del modelo y referimos las herramientas"
   ]
  },
  {
   "cell_type": "code",
   "execution_count": 4,
   "id": "28b125f2-0222-406c-93b3-ab158a76bd57",
   "metadata": {},
   "outputs": [
    {
     "name": "stdout",
     "output_type": "stream",
     "text": [
      "genai.GenerativeModel(\n",
      "    model_name='models/gemini-1.5-flash',\n",
      "    generation_config={},\n",
      "    safety_settings={},\n",
      "    tools=<google.generativeai.types.content_types.FunctionLibrary object at 0x000001ECA98FDAD0>,\n",
      "    system_instruction='Eres un asistente útil para una aerolínea llamada FlightAI. Da respuestas breves y corteses, de no más de una oración. Se siempre preciso. Si no sabes la respuesta, dilo.',\n",
      "    cached_content=None\n",
      ")\n"
     ]
    }
   ],
   "source": [
    "system_message = \"Eres un asistente útil para una aerolínea llamada FlightAI. \"\n",
    "system_message += \"Da respuestas breves y corteses, de no más de una oración. \"\n",
    "system_message += \"Se siempre preciso. Si no sabes la respuesta, dilo.\"\n",
    "\n",
    "model = genai.GenerativeModel(\n",
    "    model_name=\"gemini-1.5-flash\", \n",
    "    system_instruction=system_message,\n",
    "    tools=[contar, get_ticket_price, get_flight_price]\n",
    ")\n",
    "\n",
    "print (model)"
   ]
  },
  {
   "cell_type": "code",
   "execution_count": 8,
   "id": "8f873d6e-3405-4d0c-b344-6962f9fa1cf8",
   "metadata": {},
   "outputs": [
    {
     "name": "stdout",
     "output_type": "stream",
     "text": [
      "Se solicitó la herramienta get_ticket_price para Londres\n"
     ]
    },
    {
     "data": {
      "text/plain": [
       "'El precio de un billete a Londres es de 799€.\\n'"
      ]
     },
     "execution_count": 8,
     "metadata": {},
     "output_type": "execute_result"
    }
   ],
   "source": [
    "chat= model.start_chat(enable_automatic_function_calling=True)\n",
    "\n",
    "response = chat.send_message(\"¿Cuál es el precio de un ticket a Londres?\")\n",
    "response.text"
   ]
  },
  {
   "cell_type": "code",
   "execution_count": 9,
   "id": "16c1e9ec-df03-4677-b7f3-621cbefa099c",
   "metadata": {},
   "outputs": [
    {
     "name": "stdout",
     "output_type": "stream",
     "text": [
      "response:\n",
      "GenerateContentResponse(\n",
      "    done=True,\n",
      "    iterator=None,\n",
      "    result=protos.GenerateContentResponse({\n",
      "      \"candidates\": [\n",
      "        {\n",
      "          \"content\": {\n",
      "            \"parts\": [\n",
      "              {\n",
      "                \"text\": \"El precio de un billete a Londres es de 799\\u20ac.\\n\"\n",
      "              }\n",
      "            ],\n",
      "            \"role\": \"model\"\n",
      "          },\n",
      "          \"finish_reason\": \"STOP\",\n",
      "          \"avg_logprobs\": -0.012815107591450214\n",
      "        }\n",
      "      ],\n",
      "      \"usage_metadata\": {\n",
      "        \"prompt_token_count\": 98,\n",
      "        \"candidates_token_count\": 16,\n",
      "        \"total_token_count\": 114\n",
      "      }\n",
      "    }),\n",
      ")\n"
     ]
    }
   ],
   "source": [
    "print(response)"
   ]
  },
  {
   "cell_type": "code",
   "execution_count": 10,
   "id": "4dc85a2f-8d01-4295-885c-0913ba7602d1",
   "metadata": {},
   "outputs": [],
   "source": [
    "chat = model.start_chat(history=[], enable_automatic_function_calling=True)\n",
    "\n",
    "def chatter(prompt, chat_history):\n",
    "    print(prompt)\n",
    "\n",
    "    if prompt :\n",
    "        response = chat.send_message(prompt)\n",
    "\n",
    "    output = response.candidates[0].content.parts[0].text\n",
    "    return output"
   ]
  },
  {
   "cell_type": "code",
   "execution_count": 11,
   "id": "e90f4f39-291d-425f-ae38-4f250fb97a6e",
   "metadata": {},
   "outputs": [
    {
     "name": "stdout",
     "output_type": "stream",
     "text": [
      "* Running on local URL:  http://127.0.0.1:7860\n",
      "\n",
      "To create a public link, set `share=True` in `launch()`.\n"
     ]
    },
    {
     "data": {
      "text/html": [
       "<div><iframe src=\"http://127.0.0.1:7860/\" width=\"100%\" height=\"500\" allow=\"autoplay; camera; microphone; clipboard-read; clipboard-write;\" frameborder=\"0\" allowfullscreen></iframe></div>"
      ],
      "text/plain": [
       "<IPython.core.display.HTML object>"
      ]
     },
     "metadata": {},
     "output_type": "display_data"
    },
    {
     "data": {
      "text/plain": []
     },
     "execution_count": 11,
     "metadata": {},
     "output_type": "execute_result"
    },
    {
     "name": "stdout",
     "output_type": "stream",
     "text": [
      "Hola\n",
      "Me gustaría volar a Londres, ciudad que me encanta visitar\n",
      "Cuánto cuesta el vuelo desde Madrid?\n",
      "el proximo lunes\n",
      "Se solicitó la herramienta get_flight_price para Madrid\n",
      "Y un vuelo a Berlín?\n",
      "Se solicitó la herramienta get_flight_price para Berlín\n"
     ]
    }
   ],
   "source": [
    "gr.ChatInterface(fn=chatter, type=\"messages\").launch()"
   ]
  },
  {
   "cell_type": "code",
   "execution_count": null,
   "id": "cfbcb1cc-9686-410d-bf5a-f9f1a59de923",
   "metadata": {},
   "outputs": [],
   "source": []
  }
 ],
 "metadata": {
  "kernelspec": {
   "display_name": "Python 3 (ipykernel)",
   "language": "python",
   "name": "python3"
  },
  "language_info": {
   "codemirror_mode": {
    "name": "ipython",
    "version": 3
   },
   "file_extension": ".py",
   "mimetype": "text/x-python",
   "name": "python",
   "nbconvert_exporter": "python",
   "pygments_lexer": "ipython3",
   "version": "3.11.11"
  }
 },
 "nbformat": 4,
 "nbformat_minor": 5
}
