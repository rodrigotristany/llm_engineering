{
 "cells": [
  {
   "cell_type": "markdown",
   "id": "fe12c203-e6a6-452c-a655-afb8a03a4ff5",
   "metadata": {},
   "source": [
    "# Ejercicio final de la semana 1\n",
    "\n",
    "Para demostrar que estás familiarizado con la API de OpenAI y también con Ollama, crea una herramienta que responda a una pregunta técnica\n",
    "y la explique. ¡Esta es una herramienta que podrás usar durante el curso!"
   ]
  },
  {
   "cell_type": "code",
   "execution_count": 1,
   "id": "c1070317-3ed9-4659-abe3-828943230e03",
   "metadata": {},
   "outputs": [],
   "source": [
    "# imports\n",
    "import os\n",
    "import requests\n",
    "import json\n",
    "import ollama\n",
    "from typing import List\n",
    "from dotenv import load_dotenv\n",
    "from bs4 import BeautifulSoup\n",
    "from IPython.display import Markdown, display, update_display\n",
    "from openai import OpenAI"
   ]
  },
  {
   "cell_type": "code",
   "execution_count": 2,
   "id": "4a456906-915a-4bfd-bb9d-57e505c5093f",
   "metadata": {},
   "outputs": [
    {
     "name": "stdout",
     "output_type": "stream",
     "text": [
      "La clave de API parece buena\n"
     ]
    }
   ],
   "source": [
    "# constantes\n",
    "load_dotenv()\n",
    "api_key = os.getenv('OPENAI_API_KEY')\n",
    "\n",
    "if api_key and api_key[:8]=='sk-proj-':\n",
    "    print(\"La clave de API parece buena\")\n",
    "else:\n",
    "    print(\"¿Puede haber un problema con tu clave API? ¡Visita el cuaderno de resolución de problemas!\")\n",
    "    \n",
    "MODEL_GPT = 'gpt-4o-mini'\n",
    "openai = OpenAI()\n",
    "\n",
    "MODEL_LLAMA = 'llama3.2'\n",
    "OLLAMA_API = \"http://localhost:11434/api/chat\"\n",
    "HEADERS = {\"Content-Type\": \"application/json\"}"
   ]
  },
  {
   "cell_type": "code",
   "execution_count": 9,
   "id": "a8d7923c-5f28-4c30-8556-342d7c8497c1",
   "metadata": {},
   "outputs": [],
   "source": [
    "# Configura el entorno\n",
    "link_system_prompt = \"Se te proporcionará una pregunta relacionada al software. El código está \\\n",
    "escrito en python, quiero formules una respuesta como Markdown y que sea atractiva para leer. \\\n",
    "En el caso de que muestres código, hazlo de una manera legible, como si estuviera siendo presentado en un IDE.\""
   ]
  },
  {
   "cell_type": "code",
   "execution_count": 12,
   "id": "3f0d0137-52b0-47a8-81a8-11a90a010798",
   "metadata": {},
   "outputs": [],
   "source": [
    "# Aquí está la pregunta; escribe sobre esto para preguntar algo nuevo\n",
    "\n",
    "question = \"\"\"\n",
    "Explica qué hace este código, por qué, transforma el código a C++, compara la performance y comenta quien se \\\n",
    "comporta mejor ante un set de 1.000.000 de datos:\n",
    "yield from {book.get(\"author\") for book in books if book.get(\"author\")}\n",
    "\"\"\""
   ]
  },
  {
   "cell_type": "code",
   "execution_count": 13,
   "id": "60ce7000-a4a5-4cce-a261-e75ef45063b4",
   "metadata": {},
   "outputs": [],
   "source": [
    "# Haz que gpt-4o-mini responda, con streaming\n",
    "def stream_response_gpt(system_prompt, question):\n",
    "    stream = openai.chat.completions.create(\n",
    "        model=MODEL_GPT,\n",
    "        messages=[\n",
    "            {\"role\": \"system\", \"content\": system_prompt},\n",
    "            {\"role\": \"user\", \"content\": question}\n",
    "          ],\n",
    "        stream=True\n",
    "    )\n",
    "    \n",
    "    response = \"\"\n",
    "    display_handle = display(Markdown(\"\"), display_id=True)\n",
    "    for chunk in stream:\n",
    "        response += chunk.choices[0].delta.content or ''\n",
    "        response = response.replace(\"```\",\"\").replace(\"markdown\", \"\")\n",
    "        update_display(Markdown(response), display_id=display_handle.display_id)"
   ]
  },
  {
   "cell_type": "code",
   "execution_count": 14,
   "id": "308f88f4-e86a-42d7-90bc-457735ee7d66",
   "metadata": {},
   "outputs": [
    {
     "name": "stdout",
     "output_type": "stream",
     "text": [
      "Respuesta de GPT\n",
      "\n"
     ]
    },
    {
     "data": {
      "text/markdown": [
       "## Análisis del Código en Python\n",
       "\n",
       "El código proporcionado utiliza una expresión generadora para extraer de manera eficiente autores de una lista de libros. Vamos a desglosar su funcionamiento:\n",
       "\n",
       "python\n",
       "yield from {book.get(\"author\") for book in books if book.get(\"author\")}\n",
       "\n",
       "\n",
       "### Explicación:\n",
       "\n",
       "1. **Conjunto de Autores**: `book.get(\"author\") for book in books` crea un conjunto (`set`) de autores. Utiliza `book.get(\"author\")` para acceder al valor de la clave `\"author\"` en cada diccionario `book`.\n",
       "\n",
       "2. **Filtrado de Nulos**: La condición `if book.get(\"author\")` garantiza que sólo se añadan al conjunto aquellos autores que no sean `None` o cadenas vacías.\n",
       "\n",
       "3. **Yield**: `yield from` se utiliza aquí para generar los elementos del conjunto en lugar de devolver el conjunto completo. Esto hace que la función sea un generador, lo que permite que los resultados se procese uno a uno sin cargar todo el conjunto en memoria.\n",
       "\n",
       "### Transformación a C++\n",
       "\n",
       "Ahora, veamos cómo se podría implementar esto en C++:\n",
       "\n",
       "cpp\n",
       "#include <iostream>\n",
       "#include <set>\n",
       "#include <vector>\n",
       "#include <string>\n",
       "#include <optional>\n",
       "\n",
       "struct Book {\n",
       "    std::optional<std::string> author;\n",
       "};\n",
       "\n",
       "std::set<std::string> getAuthors(const std::vector<Book>& books) {\n",
       "    std::set<std::string> authors;\n",
       "    for (const auto& book : books) {\n",
       "        if (book.author) {\n",
       "            authors.insert(*book.author);\n",
       "        }\n",
       "    }\n",
       "    return authors;\n",
       "}\n",
       "\n",
       "int main() {\n",
       "    std::vector<Book> books = { /* Aquí sería donde se llenan los libros */ };\n",
       "    auto authors = getAuthors(books);\n",
       "    for (const auto& author : authors) {\n",
       "        std::cout << author << std::endl;\n",
       "    }\n",
       "    return 0;\n",
       "}\n",
       "\n",
       "\n",
       "### Comparación de Performance\n",
       "\n",
       "Al comparar ambas implementaciones, hay algunos factores a considerar:\n",
       "\n",
       "1. **Uso de Memoria**:\n",
       "   - **Python**: La implementación en Python usa `yield from`, lo que significa que no se necesita almacenar todos los autores en memoria al mismo tiempo, solo devuelve cada autor a medida que se necesita.\n",
       "   - **C++**: La versión en C++ utiliza un conjunto (`std::set`) que almacena todos los autores y tiene que descargar todo el conjunto al final, lo que puede aumentar el uso de memoria.\n",
       "\n",
       "2. **Velocidad de Ejecución**:\n",
       "   - **Python**: Puede ser más lento en términos de tiempo de ejecución debido a la naturaleza interpretada de Python y la sobrecarga de los métodos utilizados.\n",
       "   - **C++**: C++ es un lenguaje compilado y, generalmente, se ejecutará más rápido en comparación con Python, especialmente para un tamaño considerable de datos como 1.000.000 de entradas.\n",
       "\n",
       "### Conclusión\n",
       "\n",
       "- Si el uso de memoria es una preocupación y se requiere la generación perezosa de resultados, la versión en **Python** es más adecuada.\n",
       "- En situaciones donde la **velocidad** de ejecución es crucial, especialmente con conjuntos de datos grandes, la implementación en **C++** superará a la de **Python** en rendimiento general.\n",
       "\n",
       "Ambas versiones tienen sus ventajas dependiendo del contexto en que se utilicen."
      ],
      "text/plain": [
       "<IPython.core.display.Markdown object>"
      ]
     },
     "metadata": {},
     "output_type": "display_data"
    }
   ],
   "source": [
    "print(\"Respuesta de GPT\\n\")\n",
    "stream_response_gpt(link_system_prompt, question)"
   ]
  },
  {
   "cell_type": "code",
   "execution_count": 10,
   "id": "8f7c8ea8-4082-4ad0-8751-3301adcf6538",
   "metadata": {},
   "outputs": [],
   "source": [
    "# Haz que Llama 3.2 responda\n",
    "def response_llama(system_prompt, question):\n",
    "    response = ollama.chat(\n",
    "        model=MODEL_LLAMA, \n",
    "        messages=[\n",
    "            {\"role\": \"system\", \"content\": system_prompt},\n",
    "            {\"role\": \"user\", \"content\": question}\n",
    "          ]\n",
    "    )\n",
    "    display(Markdown(response['message']['content']))"
   ]
  },
  {
   "cell_type": "code",
   "execution_count": 11,
   "id": "c6dbc489-644b-4b4b-adb3-75947ccabe00",
   "metadata": {},
   "outputs": [
    {
     "name": "stdout",
     "output_type": "stream",
     "text": [
      "Respuesta de Llama\n",
      "\n"
     ]
    },
    {
     "data": {
      "text/markdown": [
       "**Análisis del Código Original**\n",
       "\n",
       "El código original es escrito en Python y utiliza un recurso llamado \"generador\" (yield) para obtener una colección de valores. A continuación, se explica qué hace este código:\n",
       "\n",
       "```python\n",
       "yield from {book.get(\"author\") for book in books if book.get(\"author\")}\n",
       "```\n",
       "\n",
       "Este código utiliza varias estructuras lingüísticas simultáneas:\n",
       "\n",
       "* `yield`: es un statement que pausa la ejecución del generador y devuelve un valor. En este caso, se utiliza para generar una secuencia de valores.\n",
       "* `from`: es una palabra clave que indica el uso de un recurso llamado \"generador\".\n",
       "* `{}`: se refiere a un set o una colección sin orden.\n",
       "* `for book in books if book.get(\"author\")`: es una estructura de control que itera sobre cada elemento en la colección `books`. La condición `if book.get(\"author\")` filtra los elementos para que solo incluyan aquellos que tengan el valor \"author\" asociado.\n",
       "\n",
       "En resumen, este código utiliza un generador para obtener una lista de autores a partir de una colección de libros. El resultado es una secuencia de valores donde cada valor corresponde a un autor en la colección original.\n",
       "\n",
       "**Transformación al C++**\n",
       "\n",
       "Para convertir este código al C++, podemos utilizar iteradores y mapas para lograr el mismo resultado:\n",
       "\n",
       "```cpp\n",
       "#include <iostream>\n",
       "#include <vector>\n",
       "#include <string>\n",
       "#include <unordered_map>\n",
       "\n",
       "// Definir una estructura para un libro\n",
       "struct Libro {\n",
       "    std::string autor;\n",
       "};\n",
       "\n",
       "int main() {\n",
       "    // Crear una colección de libros\n",
       "    std::vector<Libro> books = {\n",
       "        {\"J.K. Rowling\", \"Harry Potter\"},\n",
       "        {\"George R.R. Martin\", \"A Song of Ice and Fire\"},\n",
       "        {\"John Grisham\", \"The Firm\"}\n",
       "    };\n",
       "\n",
       "    // Crear un mapa con autores y sus respectivos libros\n",
       "    std::unordered_map<std::string, std::vector<Libro>> autoresLibros;\n",
       "    for (const auto& libro : books) {\n",
       "        autoresLibros[libro.autor].push_back(libro);\n",
       "    }\n",
       "\n",
       "    // Obtener la lista de autores\n",
       "    for (const auto& autor : autoresLibros) {\n",
       "        std::cout << autor.first << std::endl;\n",
       "    }\n",
       "\n",
       "    return 0;\n",
       "}\n",
       "```\n",
       "\n",
       "En este ejemplo, creamos una estructura `Libro` para representar cada libro con un autor asociado. Luego, creamos una colección de libros y un mapa con autores como clave y sus respectivos libros en el valor.\n",
       "\n",
       "Finalmente, iteramos sobre el mapa y obtenemos la lista de autores imprimiéndolos por pantalla.\n",
       "\n",
       "**Comparación de Performance**\n",
       "\n",
       "La performance del código original Python y el C++ es similar, ya que ambos utilizan estructuras lingüísticas para lograr el mismo resultado. Sin embargo, hay algunas diferencias clave:\n",
       "\n",
       "* **Ejecución**: El código Python utiliza un motor de ejecución interno (CPython), mientras que el código C++ utiliza la compilación estática y la ejecución directa.\n",
       "* **Almacenamiento**: El código C++ utiliza estructuras de datos como vectores y mapas, que pueden ser más eficientes en términos de almacenamiento y acceso rápido.\n",
       "* **Optimización**: El código C++ puede ser optimizado mediante técnicas como el uso de temporizadores y reducción del árbol de recursividad.\n",
       "\n",
       "En general, si se necesita una aplicación con rendimiento óptimo, es recomendable escribir el código en C++. Sin embargo, si se requiere una solución rápida y fácil de entender, Python puede ser una opción más adecuada."
      ],
      "text/plain": [
       "<IPython.core.display.Markdown object>"
      ]
     },
     "metadata": {},
     "output_type": "display_data"
    }
   ],
   "source": [
    "print(\"Respuesta de Llama\\n\")\n",
    "response_llama(link_system_prompt, question)"
   ]
  },
  {
   "cell_type": "code",
   "execution_count": null,
   "id": "ec67c4f3-0ae7-410a-836c-6d3f7177cdfb",
   "metadata": {},
   "outputs": [],
   "source": []
  }
 ],
 "metadata": {
  "kernelspec": {
   "display_name": "Python 3 (ipykernel)",
   "language": "python",
   "name": "python3"
  },
  "language_info": {
   "codemirror_mode": {
    "name": "ipython",
    "version": 3
   },
   "file_extension": ".py",
   "mimetype": "text/x-python",
   "name": "python",
   "nbconvert_exporter": "python",
   "pygments_lexer": "ipython3",
   "version": "3.11.8"
  }
 },
 "nbformat": 4,
 "nbformat_minor": 5
}
