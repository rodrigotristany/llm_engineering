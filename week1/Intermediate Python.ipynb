{
 "cells": [
  {
   "cell_type": "markdown",
   "id": "5c291475-8c7c-461c-9b12-545a887b2432",
   "metadata": {},
   "source": [
    "# Python de nivel intermedio\n",
    "\n",
    "## Cómo empezar a utilizarlo rápidamente\n",
    "\n",
    "Este curso asume que tiene un nivel intermedio de Python. Por ejemplo, debería tener una idea bastante clara de lo que podría hacer algo como esto:\n",
    "\n",
    "`yield from {book.get(\"author\") for book in books if book.get(\"author\")}`\n",
    "\n",
    "Si no es así, ¡ha llegado al lugar correcto! Bienvenido al curso intensivo de Python de nivel intermedio. ¡La mejor manera de aprender es haciendo!"
   ]
  },
  {
   "cell_type": "markdown",
   "id": "542f0577-a826-4613-a5d7-4170e9666d04",
   "metadata": {},
   "source": [
    "## Primero: si necesitas un repaso de los fundamentos\n",
    "\n",
    "Voy a dejar que un amigo experto en IA se encargue de esto, porque estas explicaciones están muy bien escritas y tienen ejemplos excelentes. Copia y pega los ejemplos de código en una nueva celda para probarlos.\n",
    "\n",
    "**Importaciones de Python:**\n",
    "https://chatgpt.com/share/672f9f31-8114-8012-be09-29ef0d0140fb\n",
    "\n",
    "**Funciones de Python**, incluidos los argumentos predeterminados:\n",
    "https://chatgpt.com/share/672f9f99-7060-8012-bfec-46d4cf77d672\n",
    "\n",
    "**Cadenas de Python**, que incluyen segmentación, división/unión, reemplazo y literales:\n",
    "https://chatgpt.com/share/672fb526-0aa0-8012-9e00-ad1687c04518\n",
    "\n",
    "**Cadenas f de Python**, que incluyen formato de números y fechas:\n",
    "https://chatgpt.com/share/672fa125-0de0-8012-8e35-27918cbb481c\n",
    "\n",
    "**Listas, diccionarios y conjuntos de Python**, incluido el método `get()`:\n",
    "https://chatgpt.com/share/672fa225-3f04-8012-91af-f9c95287da8d\n",
    "\n",
    "**Clases de Python:**\n",
    "https://chatgpt.com/share/672fa07a-1014-8012-b2ea-6dc679552715"
   ]
  },
  {
   "cell_type": "code",
   "execution_count": null,
   "id": "5802e2f0-0ea0-4237-bbb7-f375a34260f0",
   "metadata": {},
   "outputs": [],
   "source": [
    "# A continuación vamos a crear algunas cosas:\n",
    "\n",
    "fruits = [\"Apples\", \"Bananas\", \"Pears\"]\n",
    "\n",
    "book1 = {\"title\": \"Great Expectations\", \"author\": \"Charles Dickens\"}\n",
    "book2 = {\"title\": \"Bleak House\", \"author\": \"Charles Dickens\"}\n",
    "book3 = {\"title\": \"An Book By No Author\"}\n",
    "book4 = {\"title\": \"Moby Dick\", \"author\": \"Herman Melville\"}\n",
    "\n",
    "books = [book1, book2, book3, book4]"
   ]
  },
  {
   "cell_type": "markdown",
   "id": "9b941e6a-3658-4144-a8d4-72f5e72f3707",
   "metadata": {},
   "source": [
    "# Parte 1: Comprensión de listas y diccionarios"
   ]
  },
  {
   "cell_type": "code",
   "execution_count": null,
   "id": "61992bb8-735d-4dad-8747-8c10b63aec82",
   "metadata": {},
   "outputs": [],
   "source": [
    "# Nivel fácil para empezar\n",
    "\n",
    "for fruit in fruits:\n",
    "    print(fruit)"
   ]
  },
  {
   "cell_type": "code",
   "execution_count": null,
   "id": "c89c3842-9b74-47fa-8424-0fcb08e4177c",
   "metadata": {},
   "outputs": [],
   "source": [
    "# Vamos a crear una nueva versión de las frutas\n",
    "\n",
    "fruits_shouted = []\n",
    "for fruit in fruits:\n",
    "    fruits_shouted.append(fruit.upper())\n",
    "\n",
    "fruits_shouted"
   ]
  },
  {
   "cell_type": "code",
   "execution_count": null,
   "id": "4ec13b3a-9545-44f1-874a-2910a0663560",
   "metadata": {},
   "outputs": [],
   "source": [
    "# Probablemente ya sepas esto\n",
    "# Hay una construcción de Python muy útil llamada \"comprensión de listas\" que hace esto:\n",
    "\n",
    "fruits_shouted2 = [fruit.upper() for fruit in fruits]\n",
    "fruits_shouted2"
   ]
  },
  {
   "cell_type": "code",
   "execution_count": null,
   "id": "ecc08c3c-181d-4b64-a3e1-b0ccffc6c0cd",
   "metadata": {},
   "outputs": [],
   "source": [
    "# Pero quizás no sepas que también puedes hacer esto para crear diccionarios:\n",
    "\n",
    "fruit_mapping = {fruit:fruit.upper() for fruit in fruits}\n",
    "fruit_mapping"
   ]
  },
  {
   "cell_type": "code",
   "execution_count": null,
   "id": "500c2406-00d2-4793-b57b-f49b612760c8",
   "metadata": {},
   "outputs": [],
   "source": [
    "# También puedes usar la declaración if para filtrar los resultados\n",
    "\n",
    "fruits_with_longer_names_shouted = [fruit.upper() for fruit in fruits if len(fruit)>5]\n",
    "fruits_with_longer_names_shouted"
   ]
  },
  {
   "cell_type": "code",
   "execution_count": null,
   "id": "38c11c34-d71e-45ba-945b-a3d37dc29793",
   "metadata": {},
   "outputs": [],
   "source": [
    "fruit_mapping_unless_starts_with_a = {fruit:fruit.upper() for fruit in fruits if not fruit.startswith('A')}\n",
    "fruit_mapping_unless_starts_with_a"
   ]
  },
  {
   "cell_type": "code",
   "execution_count": null,
   "id": "5c97d8e8-31de-4afa-973e-28d8e5cab749",
   "metadata": {},
   "outputs": [],
   "source": [
    "# Otra explicación\n",
    "\n",
    "[book['title'] for book in books]"
   ]
  },
  {
   "cell_type": "code",
   "execution_count": null,
   "id": "50be0edc-a4cd-493f-a680-06080bb497b4",
   "metadata": {},
   "outputs": [],
   "source": [
    "# Este código fallará con un error porque uno de nuestros libros no tiene autor\n",
    "\n",
    "[book['author'] for book in books]"
   ]
  },
  {
   "cell_type": "code",
   "execution_count": null,
   "id": "53794083-cc09-4edb-b448-2ffb7e8495c2",
   "metadata": {},
   "outputs": [],
   "source": [
    "# Pero esto funcionará, porque get() devuelve None\n",
    "\n",
    "[book.get('author') for book in books]"
   ]
  },
  {
   "cell_type": "code",
   "execution_count": null,
   "id": "b8e4b859-24f8-4016-8d74-c2cef226d049",
   "metadata": {},
   "outputs": [],
   "source": [
    "# Y esta variación filtrará el None\n",
    "\n",
    "[book.get('author') for book in books if book.get('author')]"
   ]
  },
  {
   "cell_type": "code",
   "execution_count": null,
   "id": "c44bb999-52b4-4dee-810b-8a400db8f25f",
   "metadata": {},
   "outputs": [],
   "source": [
    "# Y esta versión lo convertirá en un conjunto, eliminando duplicados.\n",
    "\n",
    "set([book.get('author') for book in books if book.get('author')])"
   ]
  },
  {
   "cell_type": "code",
   "execution_count": null,
   "id": "80a65156-6192-4bb4-b4e6-df3fdc933891",
   "metadata": {},
   "outputs": [],
   "source": [
    "# Y finalmente, esta versión es aún mejor\n",
    "# Las llaves crean un conjunto, por lo que se trata de una comprensión de conjunto.\n",
    "\n",
    "{book.get('author') for book in books if book.get('author')}"
   ]
  },
  {
   "cell_type": "markdown",
   "id": "c100e5db-5438-4715-921c-3f7152f83f4a",
   "metadata": {},
   "source": [
    "# Parte 2: Generadores\n",
    "\n",
    "Utilizamos generadores en el curso porque los modelos de IA pueden transmitir resultados.\n",
    "\n",
    "Si no ha utilizado generadores antes, comience con esta excelente introducción de ChatGPT:\n",
    "\n",
    "https://chatgpt.com/share/672faa6e-7dd0-8012-aae5-44fc0d0ec218\n",
    "\n",
    "Intente pegar algunos de sus ejemplos en una celda."
   ]
  },
  {
   "cell_type": "code",
   "execution_count": null,
   "id": "1efc26fa-9144-4352-9a17-dfec1d246aad",
   "metadata": {},
   "outputs": [],
   "source": [
    "# Primero definamos un generador; parece una función, pero tiene rendimiento en lugar de retorno\n",
    "\n",
    "import time\n",
    "\n",
    "def come_up_with_fruit_names():\n",
    "    for fruit in fruits:\n",
    "        time.sleep(1) # pensando una fruta\n",
    "        yield fruit"
   ]
  },
  {
   "cell_type": "code",
   "execution_count": null,
   "id": "eac338bb-285c-45c8-8a3e-dbfc41409ca3",
   "metadata": {},
   "outputs": [],
   "source": [
    "# Vamos a usarlo\n",
    "\n",
    "for fruit in come_up_with_fruit_names():\n",
    "    print(fruit)"
   ]
  },
  {
   "cell_type": "code",
   "execution_count": null,
   "id": "f6880578-a3de-4502-952a-4572b95eb9ff",
   "metadata": {},
   "outputs": [],
   "source": [
    "# Aquí va otro\n",
    "\n",
    "def authors_generator():\n",
    "    for book in books:\n",
    "        if book.get(\"author\"):\n",
    "            yield book.get(\"author\")"
   ]
  },
  {
   "cell_type": "code",
   "execution_count": null,
   "id": "9e316f02-f87f-441d-a01f-024ade949607",
   "metadata": {},
   "outputs": [],
   "source": [
    "# Lo usamos\n",
    "\n",
    "for author in authors_generator():\n",
    "    print(author)"
   ]
  },
  {
   "cell_type": "code",
   "execution_count": null,
   "id": "7535c9d0-410e-4e56-a86c-ae6c0e16053f",
   "metadata": {},
   "outputs": [],
   "source": [
    "# Aquí está lo mismo escrito con comprensión de listas.\n",
    "\n",
    "def authors_generator():\n",
    "    for author in [book.get(\"author\") for book in books if book.get(\"author\")]:\n",
    "        yield author"
   ]
  },
  {
   "cell_type": "code",
   "execution_count": null,
   "id": "dad34494-0f6c-4edb-b03f-b8d49ee186f2",
   "metadata": {},
   "outputs": [],
   "source": [
    "# Lo usamos\n",
    "\n",
    "for author in authors_generator():\n",
    "    print(author)"
   ]
  },
  {
   "cell_type": "code",
   "execution_count": null,
   "id": "abeb7e61-d8aa-4af0-b05a-ae17323e678c",
   "metadata": {},
   "outputs": [],
   "source": [
    "# Aquí tienes un buen atajo\n",
    "# Puedes usar \"yield from\" para obtener cada elemento de un iterable\n",
    "\n",
    "def authors_generator():\n",
    "    yield from [book.get(\"author\") for book in books if book.get(\"author\")]"
   ]
  },
  {
   "cell_type": "code",
   "execution_count": null,
   "id": "05b0cb43-aa83-4762-a797-d3beb0f22c44",
   "metadata": {},
   "outputs": [],
   "source": [
    "# Lo usamos\n",
    "\n",
    "for author in authors_generator():\n",
    "    print(author)"
   ]
  },
  {
   "cell_type": "code",
   "execution_count": null,
   "id": "fdfea58e-d809-4dd4-b7b0-c26427f8be55",
   "metadata": {},
   "outputs": [],
   "source": [
    "# Y finalmente, podemos reemplazar la comprensión de lista con una comprensión de conjunto.\n",
    "\n",
    "def unique_authors_generator():\n",
    "    yield from {book.get(\"author\") for book in books if book.get(\"author\")}"
   ]
  },
  {
   "cell_type": "code",
   "execution_count": null,
   "id": "3e821d08-97be-4db9-9a5b-ce5dced3eff8",
   "metadata": {},
   "outputs": [],
   "source": [
    "# Lo usamos\n",
    "\n",
    "for author in unique_authors_generator():\n",
    "    print(author)"
   ]
  },
  {
   "cell_type": "code",
   "execution_count": null,
   "id": "905ba603-15d8-4d01-9a79-60ec293d7ca1",
   "metadata": {},
   "outputs": [],
   "source": [
    "# Y para divertirse un poco, ¡presione el botón de parada en la barra de herramientas cuando se aburra!\n",
    "# Es como si hubiéramos creado nuestro propio modelo de lenguaje grande... aunque no particularmente grande...\n",
    "# Veamos si comprendes por qué imprime una letra a la vez, en lugar de una palabra a la vez. Si no estás seguro, intenta eliminar la palabra clave \"from\" en todas partes del código.\n",
    "\n",
    "import random\n",
    "import time\n",
    "\n",
    "pronouns = [\"I\", \"You\", \"We\", \"They\"]\n",
    "verbs = [\"eat\", \"detest\", \"bathe in\", \"deny the existence of\", \"resent\", \"pontificate about\", \"juggle\", \"impersonate\", \"worship\", \"misplace\", \"conspire with\", \"philosophize about\", \"tap dance on\", \"dramatically renounce\", \"secretly collect\"]\n",
    "adjectives = [\"turqoise\", \"smelly\", \"arrogant\", \"festering\", \"pleasing\", \"whimsical\", \"disheveled\", \"pretentious\", \"wobbly\", \"melodramatic\", \"pompous\", \"fluorescent\", \"bewildered\", \"suspicious\", \"overripe\"]\n",
    "nouns = [\"turnips\", \"rodents\", \"eels\", \"walruses\", \"kumquats\", \"monocles\", \"spreadsheets\", \"bagpipes\", \"wombats\", \"accordions\", \"mustaches\", \"calculators\", \"jellyfish\", \"thermostats\"]\n",
    "\n",
    "def infinite_random_sentences():\n",
    "    while True:\n",
    "        yield from random.choice(pronouns)\n",
    "        yield \" \"\n",
    "        yield from random.choice(verbs)\n",
    "        yield \" \"\n",
    "        yield from random.choice(adjectives)\n",
    "        yield \" \"\n",
    "        yield from random.choice(nouns)\n",
    "        yield \". \"\n",
    "\n",
    "for letter in infinite_random_sentences():\n",
    "    print(letter, end=\"\", flush=True)\n",
    "    time.sleep(0.02)"
   ]
  },
  {
   "cell_type": "markdown",
   "id": "04832ea2-2447-4473-a449-104f80e24d85",
   "metadata": {},
   "source": [
    "# Ejercicio\n",
    "\n",
    "Escribe algunas clases de Python para el ejemplo de los libros.\n",
    "\n",
    "Escribe una clase Book con un título y un autor. Incluye un método has_author()\n",
    "\n",
    "Escribe una clase BookShelf con una lista de libros. Incluye un método generador unique_authors()"
   ]
  },
  {
   "cell_type": "markdown",
   "id": "35760406-fe6c-41f9-b0c0-3e8cf73aafd0",
   "metadata": {},
   "source": [
    "# Finalmente\n",
    "\n",
    "A continuación, se incluyen algunos detalles de nivel intermedio sobre las clases de nuestro amigo de la IA, incluido el uso de sugerencias de tipos, herencia y métodos de clase. Esto incluye un ejemplo de libro.\n",
    "\n",
    "https://chatgpt.com/share/67348aca-65fc-8012-a4a9-fd1b8f04ba59"
   ]
  }
 ],
 "metadata": {
  "kernelspec": {
   "display_name": "Python 3 (ipykernel)",
   "language": "python",
   "name": "python3"
  },
  "language_info": {
   "codemirror_mode": {
    "name": "ipython",
    "version": 3
   },
   "file_extension": ".py",
   "mimetype": "text/x-python",
   "name": "python",
   "nbconvert_exporter": "python",
   "pygments_lexer": "ipython3",
   "version": "3.11.8"
  }
 },
 "nbformat": 4,
 "nbformat_minor": 5
}
